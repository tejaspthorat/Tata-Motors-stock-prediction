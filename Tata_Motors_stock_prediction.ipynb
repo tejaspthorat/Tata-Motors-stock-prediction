{
  "nbformat": 4,
  "nbformat_minor": 0,
  "metadata": {
    "colab": {
      "provenance": []
    },
    "kernelspec": {
      "name": "python3",
      "display_name": "Python 3"
    },
    "language_info": {
      "name": "python"
    }
  },
  "cells": [
    {
      "cell_type": "code",
      "execution_count": null,
      "metadata": {
        "id": "EFB8x3jiViDc"
      },
      "outputs": [],
      "source": [
        "import pandas as pd\n"
      ]
    },
    {
      "cell_type": "code",
      "source": [
        "data = pd.read_csv(\"/content/drive/MyDrive/Accumen challenge/25-03-2021-TO-24-03-2023TATAMOTORSALLN.csv\",\n",
        "                   parse_dates=['Date'],\n",
        "                   index_col=['Date'])"
      ],
      "metadata": {
        "id": "zAS4_-rgXMYs"
      },
      "execution_count": null,
      "outputs": []
    },
    {
      "cell_type": "code",
      "source": [
        "data.head()"
      ],
      "metadata": {
        "colab": {
          "base_uri": "https://localhost:8080/",
          "height": 386
        },
        "id": "LrEi45x2XQBS",
        "outputId": "1d5f0b8b-d823-4d15-f18e-7e2b05b41460"
      },
      "execution_count": null,
      "outputs": [
        {
          "output_type": "execute_result",
          "data": {
            "text/plain": [
              "                Symbol Series  Prev Close  Open Price  High Price  Low Price  \\\n",
              "Date                                                                           \n",
              "2021-03-25  TATAMOTORS     EQ      294.45      294.00      294.00     282.25   \n",
              "2021-03-26  TATAMOTORS     EQ      285.55      290.50      301.40     290.50   \n",
              "2021-03-30  TATAMOTORS     EQ      296.40      300.50      301.30     292.70   \n",
              "2021-03-31  TATAMOTORS     EQ      297.05      299.00      307.50     297.50   \n",
              "2021-04-01  TATAMOTORS     EQ      301.80      306.75      309.85     303.05   \n",
              "\n",
              "            Last Price  Close Price  Average Price  Total Traded Quantity  \\\n",
              "Date                                                                        \n",
              "2021-03-25      286.00       285.55         287.04               84528317   \n",
              "2021-03-26      296.75       296.40         296.40               80924011   \n",
              "2021-03-30      297.05       297.05         296.64               45257627   \n",
              "2021-03-31      301.45       301.80         303.68               58569012   \n",
              "2021-04-01      307.25       307.75         306.29               44088352   \n",
              "\n",
              "                Turnover  No. of Trades Deliverable Qty % Dly Qt to Traded Qty  \n",
              "Date                                                                            \n",
              "2021-03-25  2.426271e+10         511962         8894303                  10.52  \n",
              "2021-03-26  2.398553e+10         434783         7121742                   8.80  \n",
              "2021-03-30  1.342533e+10         267495         5114972                  11.30  \n",
              "2021-03-31  1.778640e+10         325482         7088954                  12.10  \n",
              "2021-04-01  1.350382e+10         268091         4813315                  10.92  "
            ],
            "text/html": [
              "\n",
              "  <div id=\"df-eff4f653-1b83-4e2f-93a7-3d24aad8bec5\">\n",
              "    <div class=\"colab-df-container\">\n",
              "      <div>\n",
              "<style scoped>\n",
              "    .dataframe tbody tr th:only-of-type {\n",
              "        vertical-align: middle;\n",
              "    }\n",
              "\n",
              "    .dataframe tbody tr th {\n",
              "        vertical-align: top;\n",
              "    }\n",
              "\n",
              "    .dataframe thead th {\n",
              "        text-align: right;\n",
              "    }\n",
              "</style>\n",
              "<table border=\"1\" class=\"dataframe\">\n",
              "  <thead>\n",
              "    <tr style=\"text-align: right;\">\n",
              "      <th></th>\n",
              "      <th>Symbol</th>\n",
              "      <th>Series</th>\n",
              "      <th>Prev Close</th>\n",
              "      <th>Open Price</th>\n",
              "      <th>High Price</th>\n",
              "      <th>Low Price</th>\n",
              "      <th>Last Price</th>\n",
              "      <th>Close Price</th>\n",
              "      <th>Average Price</th>\n",
              "      <th>Total Traded Quantity</th>\n",
              "      <th>Turnover</th>\n",
              "      <th>No. of Trades</th>\n",
              "      <th>Deliverable Qty</th>\n",
              "      <th>% Dly Qt to Traded Qty</th>\n",
              "    </tr>\n",
              "    <tr>\n",
              "      <th>Date</th>\n",
              "      <th></th>\n",
              "      <th></th>\n",
              "      <th></th>\n",
              "      <th></th>\n",
              "      <th></th>\n",
              "      <th></th>\n",
              "      <th></th>\n",
              "      <th></th>\n",
              "      <th></th>\n",
              "      <th></th>\n",
              "      <th></th>\n",
              "      <th></th>\n",
              "      <th></th>\n",
              "      <th></th>\n",
              "    </tr>\n",
              "  </thead>\n",
              "  <tbody>\n",
              "    <tr>\n",
              "      <th>2021-03-25</th>\n",
              "      <td>TATAMOTORS</td>\n",
              "      <td>EQ</td>\n",
              "      <td>294.45</td>\n",
              "      <td>294.00</td>\n",
              "      <td>294.00</td>\n",
              "      <td>282.25</td>\n",
              "      <td>286.00</td>\n",
              "      <td>285.55</td>\n",
              "      <td>287.04</td>\n",
              "      <td>84528317</td>\n",
              "      <td>2.426271e+10</td>\n",
              "      <td>511962</td>\n",
              "      <td>8894303</td>\n",
              "      <td>10.52</td>\n",
              "    </tr>\n",
              "    <tr>\n",
              "      <th>2021-03-26</th>\n",
              "      <td>TATAMOTORS</td>\n",
              "      <td>EQ</td>\n",
              "      <td>285.55</td>\n",
              "      <td>290.50</td>\n",
              "      <td>301.40</td>\n",
              "      <td>290.50</td>\n",
              "      <td>296.75</td>\n",
              "      <td>296.40</td>\n",
              "      <td>296.40</td>\n",
              "      <td>80924011</td>\n",
              "      <td>2.398553e+10</td>\n",
              "      <td>434783</td>\n",
              "      <td>7121742</td>\n",
              "      <td>8.80</td>\n",
              "    </tr>\n",
              "    <tr>\n",
              "      <th>2021-03-30</th>\n",
              "      <td>TATAMOTORS</td>\n",
              "      <td>EQ</td>\n",
              "      <td>296.40</td>\n",
              "      <td>300.50</td>\n",
              "      <td>301.30</td>\n",
              "      <td>292.70</td>\n",
              "      <td>297.05</td>\n",
              "      <td>297.05</td>\n",
              "      <td>296.64</td>\n",
              "      <td>45257627</td>\n",
              "      <td>1.342533e+10</td>\n",
              "      <td>267495</td>\n",
              "      <td>5114972</td>\n",
              "      <td>11.30</td>\n",
              "    </tr>\n",
              "    <tr>\n",
              "      <th>2021-03-31</th>\n",
              "      <td>TATAMOTORS</td>\n",
              "      <td>EQ</td>\n",
              "      <td>297.05</td>\n",
              "      <td>299.00</td>\n",
              "      <td>307.50</td>\n",
              "      <td>297.50</td>\n",
              "      <td>301.45</td>\n",
              "      <td>301.80</td>\n",
              "      <td>303.68</td>\n",
              "      <td>58569012</td>\n",
              "      <td>1.778640e+10</td>\n",
              "      <td>325482</td>\n",
              "      <td>7088954</td>\n",
              "      <td>12.10</td>\n",
              "    </tr>\n",
              "    <tr>\n",
              "      <th>2021-04-01</th>\n",
              "      <td>TATAMOTORS</td>\n",
              "      <td>EQ</td>\n",
              "      <td>301.80</td>\n",
              "      <td>306.75</td>\n",
              "      <td>309.85</td>\n",
              "      <td>303.05</td>\n",
              "      <td>307.25</td>\n",
              "      <td>307.75</td>\n",
              "      <td>306.29</td>\n",
              "      <td>44088352</td>\n",
              "      <td>1.350382e+10</td>\n",
              "      <td>268091</td>\n",
              "      <td>4813315</td>\n",
              "      <td>10.92</td>\n",
              "    </tr>\n",
              "  </tbody>\n",
              "</table>\n",
              "</div>\n",
              "      <button class=\"colab-df-convert\" onclick=\"convertToInteractive('df-eff4f653-1b83-4e2f-93a7-3d24aad8bec5')\"\n",
              "              title=\"Convert this dataframe to an interactive table.\"\n",
              "              style=\"display:none;\">\n",
              "        \n",
              "  <svg xmlns=\"http://www.w3.org/2000/svg\" height=\"24px\"viewBox=\"0 0 24 24\"\n",
              "       width=\"24px\">\n",
              "    <path d=\"M0 0h24v24H0V0z\" fill=\"none\"/>\n",
              "    <path d=\"M18.56 5.44l.94 2.06.94-2.06 2.06-.94-2.06-.94-.94-2.06-.94 2.06-2.06.94zm-11 1L8.5 8.5l.94-2.06 2.06-.94-2.06-.94L8.5 2.5l-.94 2.06-2.06.94zm10 10l.94 2.06.94-2.06 2.06-.94-2.06-.94-.94-2.06-.94 2.06-2.06.94z\"/><path d=\"M17.41 7.96l-1.37-1.37c-.4-.4-.92-.59-1.43-.59-.52 0-1.04.2-1.43.59L10.3 9.45l-7.72 7.72c-.78.78-.78 2.05 0 2.83L4 21.41c.39.39.9.59 1.41.59.51 0 1.02-.2 1.41-.59l7.78-7.78 2.81-2.81c.8-.78.8-2.07 0-2.86zM5.41 20L4 18.59l7.72-7.72 1.47 1.35L5.41 20z\"/>\n",
              "  </svg>\n",
              "      </button>\n",
              "      \n",
              "  <style>\n",
              "    .colab-df-container {\n",
              "      display:flex;\n",
              "      flex-wrap:wrap;\n",
              "      gap: 12px;\n",
              "    }\n",
              "\n",
              "    .colab-df-convert {\n",
              "      background-color: #E8F0FE;\n",
              "      border: none;\n",
              "      border-radius: 50%;\n",
              "      cursor: pointer;\n",
              "      display: none;\n",
              "      fill: #1967D2;\n",
              "      height: 32px;\n",
              "      padding: 0 0 0 0;\n",
              "      width: 32px;\n",
              "    }\n",
              "\n",
              "    .colab-df-convert:hover {\n",
              "      background-color: #E2EBFA;\n",
              "      box-shadow: 0px 1px 2px rgba(60, 64, 67, 0.3), 0px 1px 3px 1px rgba(60, 64, 67, 0.15);\n",
              "      fill: #174EA6;\n",
              "    }\n",
              "\n",
              "    [theme=dark] .colab-df-convert {\n",
              "      background-color: #3B4455;\n",
              "      fill: #D2E3FC;\n",
              "    }\n",
              "\n",
              "    [theme=dark] .colab-df-convert:hover {\n",
              "      background-color: #434B5C;\n",
              "      box-shadow: 0px 1px 3px 1px rgba(0, 0, 0, 0.15);\n",
              "      filter: drop-shadow(0px 1px 2px rgba(0, 0, 0, 0.3));\n",
              "      fill: #FFFFFF;\n",
              "    }\n",
              "  </style>\n",
              "\n",
              "      <script>\n",
              "        const buttonEl =\n",
              "          document.querySelector('#df-eff4f653-1b83-4e2f-93a7-3d24aad8bec5 button.colab-df-convert');\n",
              "        buttonEl.style.display =\n",
              "          google.colab.kernel.accessAllowed ? 'block' : 'none';\n",
              "\n",
              "        async function convertToInteractive(key) {\n",
              "          const element = document.querySelector('#df-eff4f653-1b83-4e2f-93a7-3d24aad8bec5');\n",
              "          const dataTable =\n",
              "            await google.colab.kernel.invokeFunction('convertToInteractive',\n",
              "                                                     [key], {});\n",
              "          if (!dataTable) return;\n",
              "\n",
              "          const docLinkHtml = 'Like what you see? Visit the ' +\n",
              "            '<a target=\"_blank\" href=https://colab.research.google.com/notebooks/data_table.ipynb>data table notebook</a>'\n",
              "            + ' to learn more about interactive tables.';\n",
              "          element.innerHTML = '';\n",
              "          dataTable['output_type'] = 'display_data';\n",
              "          await google.colab.output.renderOutput(dataTable, element);\n",
              "          const docLink = document.createElement('div');\n",
              "          docLink.innerHTML = docLinkHtml;\n",
              "          element.appendChild(docLink);\n",
              "        }\n",
              "      </script>\n",
              "    </div>\n",
              "  </div>\n",
              "  "
            ]
          },
          "metadata": {},
          "execution_count": 118
        }
      ]
    },
    {
      "cell_type": "code",
      "source": [
        "close_price = data['Close Price']"
      ],
      "metadata": {
        "id": "g-3lmrXlXURC"
      },
      "execution_count": null,
      "outputs": []
    },
    {
      "cell_type": "code",
      "source": [
        "stock_price = pd.DataFrame(data[\"Close Price\"]).rename(columns={\"Close Price\": \"Price\"})\n",
        "stock_price.head()"
      ],
      "metadata": {
        "colab": {
          "base_uri": "https://localhost:8080/",
          "height": 238
        },
        "id": "my71UHNtXYiT",
        "outputId": "a47e48d2-bb24-4530-ae06-be8a9aa3fd51"
      },
      "execution_count": null,
      "outputs": [
        {
          "output_type": "execute_result",
          "data": {
            "text/plain": [
              "             Price\n",
              "Date              \n",
              "2021-03-25  285.55\n",
              "2021-03-26  296.40\n",
              "2021-03-30  297.05\n",
              "2021-03-31  301.80\n",
              "2021-04-01  307.75"
            ],
            "text/html": [
              "\n",
              "  <div id=\"df-e3176177-7c04-463d-b7b7-deb0dfcf3942\">\n",
              "    <div class=\"colab-df-container\">\n",
              "      <div>\n",
              "<style scoped>\n",
              "    .dataframe tbody tr th:only-of-type {\n",
              "        vertical-align: middle;\n",
              "    }\n",
              "\n",
              "    .dataframe tbody tr th {\n",
              "        vertical-align: top;\n",
              "    }\n",
              "\n",
              "    .dataframe thead th {\n",
              "        text-align: right;\n",
              "    }\n",
              "</style>\n",
              "<table border=\"1\" class=\"dataframe\">\n",
              "  <thead>\n",
              "    <tr style=\"text-align: right;\">\n",
              "      <th></th>\n",
              "      <th>Price</th>\n",
              "    </tr>\n",
              "    <tr>\n",
              "      <th>Date</th>\n",
              "      <th></th>\n",
              "    </tr>\n",
              "  </thead>\n",
              "  <tbody>\n",
              "    <tr>\n",
              "      <th>2021-03-25</th>\n",
              "      <td>285.55</td>\n",
              "    </tr>\n",
              "    <tr>\n",
              "      <th>2021-03-26</th>\n",
              "      <td>296.40</td>\n",
              "    </tr>\n",
              "    <tr>\n",
              "      <th>2021-03-30</th>\n",
              "      <td>297.05</td>\n",
              "    </tr>\n",
              "    <tr>\n",
              "      <th>2021-03-31</th>\n",
              "      <td>301.80</td>\n",
              "    </tr>\n",
              "    <tr>\n",
              "      <th>2021-04-01</th>\n",
              "      <td>307.75</td>\n",
              "    </tr>\n",
              "  </tbody>\n",
              "</table>\n",
              "</div>\n",
              "      <button class=\"colab-df-convert\" onclick=\"convertToInteractive('df-e3176177-7c04-463d-b7b7-deb0dfcf3942')\"\n",
              "              title=\"Convert this dataframe to an interactive table.\"\n",
              "              style=\"display:none;\">\n",
              "        \n",
              "  <svg xmlns=\"http://www.w3.org/2000/svg\" height=\"24px\"viewBox=\"0 0 24 24\"\n",
              "       width=\"24px\">\n",
              "    <path d=\"M0 0h24v24H0V0z\" fill=\"none\"/>\n",
              "    <path d=\"M18.56 5.44l.94 2.06.94-2.06 2.06-.94-2.06-.94-.94-2.06-.94 2.06-2.06.94zm-11 1L8.5 8.5l.94-2.06 2.06-.94-2.06-.94L8.5 2.5l-.94 2.06-2.06.94zm10 10l.94 2.06.94-2.06 2.06-.94-2.06-.94-.94-2.06-.94 2.06-2.06.94z\"/><path d=\"M17.41 7.96l-1.37-1.37c-.4-.4-.92-.59-1.43-.59-.52 0-1.04.2-1.43.59L10.3 9.45l-7.72 7.72c-.78.78-.78 2.05 0 2.83L4 21.41c.39.39.9.59 1.41.59.51 0 1.02-.2 1.41-.59l7.78-7.78 2.81-2.81c.8-.78.8-2.07 0-2.86zM5.41 20L4 18.59l7.72-7.72 1.47 1.35L5.41 20z\"/>\n",
              "  </svg>\n",
              "      </button>\n",
              "      \n",
              "  <style>\n",
              "    .colab-df-container {\n",
              "      display:flex;\n",
              "      flex-wrap:wrap;\n",
              "      gap: 12px;\n",
              "    }\n",
              "\n",
              "    .colab-df-convert {\n",
              "      background-color: #E8F0FE;\n",
              "      border: none;\n",
              "      border-radius: 50%;\n",
              "      cursor: pointer;\n",
              "      display: none;\n",
              "      fill: #1967D2;\n",
              "      height: 32px;\n",
              "      padding: 0 0 0 0;\n",
              "      width: 32px;\n",
              "    }\n",
              "\n",
              "    .colab-df-convert:hover {\n",
              "      background-color: #E2EBFA;\n",
              "      box-shadow: 0px 1px 2px rgba(60, 64, 67, 0.3), 0px 1px 3px 1px rgba(60, 64, 67, 0.15);\n",
              "      fill: #174EA6;\n",
              "    }\n",
              "\n",
              "    [theme=dark] .colab-df-convert {\n",
              "      background-color: #3B4455;\n",
              "      fill: #D2E3FC;\n",
              "    }\n",
              "\n",
              "    [theme=dark] .colab-df-convert:hover {\n",
              "      background-color: #434B5C;\n",
              "      box-shadow: 0px 1px 3px 1px rgba(0, 0, 0, 0.15);\n",
              "      filter: drop-shadow(0px 1px 2px rgba(0, 0, 0, 0.3));\n",
              "      fill: #FFFFFF;\n",
              "    }\n",
              "  </style>\n",
              "\n",
              "      <script>\n",
              "        const buttonEl =\n",
              "          document.querySelector('#df-e3176177-7c04-463d-b7b7-deb0dfcf3942 button.colab-df-convert');\n",
              "        buttonEl.style.display =\n",
              "          google.colab.kernel.accessAllowed ? 'block' : 'none';\n",
              "\n",
              "        async function convertToInteractive(key) {\n",
              "          const element = document.querySelector('#df-e3176177-7c04-463d-b7b7-deb0dfcf3942');\n",
              "          const dataTable =\n",
              "            await google.colab.kernel.invokeFunction('convertToInteractive',\n",
              "                                                     [key], {});\n",
              "          if (!dataTable) return;\n",
              "\n",
              "          const docLinkHtml = 'Like what you see? Visit the ' +\n",
              "            '<a target=\"_blank\" href=https://colab.research.google.com/notebooks/data_table.ipynb>data table notebook</a>'\n",
              "            + ' to learn more about interactive tables.';\n",
              "          element.innerHTML = '';\n",
              "          dataTable['output_type'] = 'display_data';\n",
              "          await google.colab.output.renderOutput(dataTable, element);\n",
              "          const docLink = document.createElement('div');\n",
              "          docLink.innerHTML = docLinkHtml;\n",
              "          element.appendChild(docLink);\n",
              "        }\n",
              "      </script>\n",
              "    </div>\n",
              "  </div>\n",
              "  "
            ]
          },
          "metadata": {},
          "execution_count": 120
        }
      ]
    },
    {
      "cell_type": "code",
      "source": [
        "import matplotlib.pyplot as plt\n",
        "\n",
        "stock_price.plot()\n",
        "plt.ylabel(\"Price\")\n",
        "plt.title(\"Tata Motors\")"
      ],
      "metadata": {
        "colab": {
          "base_uri": "https://localhost:8080/",
          "height": 310
        },
        "id": "-k7uFyRmXa85",
        "outputId": "30b0aa08-86d7-4d04-b9d3-78ba0dd3e739"
      },
      "execution_count": null,
      "outputs": [
        {
          "output_type": "execute_result",
          "data": {
            "text/plain": [
              "Text(0.5, 1.0, 'Tata Motors')"
            ]
          },
          "metadata": {},
          "execution_count": 121
        },
        {
          "output_type": "display_data",
          "data": {
            "text/plain": [
              "<Figure size 432x288 with 1 Axes>"
            ],
            "image/png": "[encoded data removed]"
          },
          "metadata": {
            "needs_background": "light"
          }
        }
      ]
    },
    {
      "cell_type": "code",
      "source": [
        "timesteps = stock_price.index.to_numpy()\n",
        "prices = stock_price[\"Price\"].to_numpy()\n",
        "\n",
        "prices"
      ],
      "metadata": {
        "colab": {
          "base_uri": "https://localhost:8080/"
        },
        "id": "lz6q35pBXeAZ",
        "outputId": "f1967233-a2f0-48fb-f6ce-ae8381eede45"
      },
      "execution_count": null,
      "outputs": [
        {
          "output_type": "execute_result",
          "data": {
            "text/plain": [
              "array([285.55, 296.4 , 297.05, 301.8 , 307.75, 305.05, 307.75, 307.8 ,\n",
              "       313.95, 318.2 , 286.55, 302.85, 303.5 , 310.  , 301.4 , 298.05,\n",
              "       294.55, 294.  , 295.4 , 301.5 , 305.9 , 301.9 , 293.85, 293.  ,\n",
              "       289.45, 291.5 , 301.25, 302.75, 314.85, 315.55, 326.  , 312.25,\n",
              "       321.1 , 332.45, 314.45, 307.7 , 313.4 , 313.1 , 311.85, 315.25,\n",
              "       315.5 , 318.6 , 318.75, 318.75, 318.1 , 323.  , 325.65, 334.95,\n",
              "       345.5 , 352.75, 343.35, 344.75, 350.75, 355.95, 352.7 , 349.35,\n",
              "       345.65, 337.4 , 334.3 , 337.9 , 335.25, 334.65, 339.65, 342.8 ,\n",
              "       341.55, 339.6 , 344.25, 344.9 , 346.1 , 316.9 , 317.1 , 306.35,\n",
              "       306.3 , 307.45, 310.95, 309.55, 310.25, 311.25, 308.85, 302.15,\n",
              "       302.55, 295.55, 293.15, 291.4 , 284.45, 292.9 , 293.95, 296.85,\n",
              "       303.7 , 298.15, 299.7 , 300.05, 298.1 , 294.2 , 295.45, 306.  ,\n",
              "       307.25, 303.7 , 297.7 , 293.35, 283.1 , 276.95, 279.8 , 284.4 ,\n",
              "       284.3 , 285.75, 291.95, 287.3 , 295.25, 293.15, 295.55, 297.45,\n",
              "       294.6 , 295.25, 298.95, 301.2 , 306.1 , 311.95, 311.65, 308.6 ,\n",
              "       298.95, 301.95, 310.1 , 321.5 , 317.95, 331.65, 329.3 , 330.25,\n",
              "       333.35, 333.3 , 333.3 , 342.  , 344.95, 336.05, 376.5 , 382.95,\n",
              "       415.75, 420.85, 506.9 , 497.6 , 509.6 , 481.9 , 486.9 , 508.  ,\n",
              "       490.9 , 479.9 , 508.65, 497.9 , 481.05, 483.7 , 485.7 , 487.85,\n",
              "       484.9 , 489.7 , 501.4 , 509.65, 510.75, 503.45, 507.05, 505.45,\n",
              "       519.05, 530.15, 509.7 , 486.1 , 495.5 , 488.65, 492.75, 460.2 ,\n",
              "       461.45, 458.6 , 475.25, 479.1 , 480.1 , 467.2 , 481.8 , 493.9 ,\n",
              "       493.95, 494.45, 495.35, 489.4 , 491.65, 491.95, 470.2 , 447.05,\n",
              "       453.6 , 470.5 , 472.35, 467.6 , 471.15, 480.2 , 476.  , 470.4 ,\n",
              "       482.4 , 497.6 , 489.6 , 489.75, 488.85, 490.6 , 503.7 , 501.3 ,\n",
              "       507.25, 511.95, 509.9 , 525.  , 510.8 , 520.85, 515.7 , 501.85,\n",
              "       478.45, 490.55, 494.4 , 497.3 , 517.75, 504.3 , 506.4 , 504.5 ,\n",
              "       500.6 , 494.6 , 492.75, 501.25, 507.45, 498.85, 471.45, 504.  ,\n",
              "       498.45, 499.95, 493.15, 494.45, 478.25, 477.  , 427.95, 459.75,\n",
              "       454.05, 447.6 , 437.1 , 417.25, 394.  , 391.75, 405.9 , 419.6 ,\n",
              "       418.15, 411.7 , 413.65, 424.9 , 433.8 , 427.95, 440.35, 435.8 ,\n",
              "       433.2 , 432.1 , 432.7 , 433.7 , 435.65, 433.75, 441.15, 446.75,\n",
              "       458.05, 456.15, 449.5 , 452.05, 452.05, 438.3 , 431.05, 433.8 ,\n",
              "       424.95, 440.55, 448.05, 438.85, 425.15, 434.9 , 430.25, 436.05,\n",
              "       437.6 , 432.85, 423.5 , 426.3 , 408.55, 403.95, 391.75, 388.15,\n",
              "       372.3 , 404.3 , 405.35, 424.15, 415.15, 398.65, 418.  , 421.45,\n",
              "       425.75, 417.  , 420.65, 429.6 , 442.4 , 443.55, 444.6 , 439.15,\n",
              "       431.9 , 432.35, 435.85, 435.65, 428.5 , 428.05, 406.7 , 405.15,\n",
              "       414.1 , 392.95, 388.95, 382.7 , 397.6 , 393.1 , 407.2 , 409.3 ,\n",
              "       414.5 , 417.1 , 416.95, 411.8 , 412.7 , 408.45, 412.  , 416.35,\n",
              "       430.85, 441.55, 437.05, 430.55, 427.1 , 428.05, 440.2 , 450.9 ,\n",
              "       449.05, 453.45, 454.85, 454.9 , 454.9 , 449.55, 441.15, 444.05,\n",
              "       442.25, 449.6 , 479.2 , 476.25, 467.8 , 468.9 , 465.25, 465.25,\n",
              "       468.25, 475.55, 476.65, 477.55, 489.85, 485.4 , 484.8 , 471.  ,\n",
              "       454.6 , 460.45, 463.2 , 459.2 , 465.05, 453.35, 471.1 , 466.9 ,\n",
              "       461.75, 459.  , 457.75, 445.85, 442.2 , 445.9 , 451.  , 456.8 ,\n",
              "       450.2 , 447.25, 432.5 , 425.45, 434.25, 427.65, 432.2 , 423.1 ,\n",
              "       397.5 , 398.8 , 399.1 , 402.25, 404.6 , 404.6 , 397.65, 407.9 ,\n",
              "       414.1 , 412.15, 395.95, 393.35, 396.55, 399.  , 396.25, 396.25,\n",
              "       396.1 , 404.25, 399.05, 398.1 , 398.05, 401.6 , 401.6 , 404.55,\n",
              "       407.7 , 409.9 , 412.75, 421.35, 422.15, 422.15, 416.25, 425.35,\n",
              "       435.  , 433.15, 412.2 , 423.5 , 423.5 , 433.7 , 437.15, 431.55,\n",
              "       423.15, 423.8 , 421.1 , 424.7 , 424.05, 423.4 , 433.2 , 433.25,\n",
              "       433.15, 439.4 , 438.25, 435.4 , 428.75, 427.1 , 420.1 , 417.2 ,\n",
              "       413.3 , 414.15, 418.5 , 417.9 , 416.7 , 421.6 , 418.  , 410.5 ,\n",
              "       402.6 , 394.45, 378.35, 384.8 , 394.15, 391.3 , 385.9 , 387.95,\n",
              "       394.8 , 393.9 , 385.6 , 386.9 , 382.  , 389.45, 412.9 , 418.2 ,\n",
              "       412.25, 411.5 , 413.  , 415.3 , 408.4 , 400.75, 403.15, 408.4 ,\n",
              "       422.15, 419.05, 445.6 , 443.65, 452.1 , 446.65, 444.8 , 445.45,\n",
              "       442.  , 435.45, 440.1 , 436.75, 445.85, 441.05, 440.55, 444.15,\n",
              "       441.6 , 439.9 , 443.  , 436.5 , 429.45, 433.2 , 427.75, 417.95,\n",
              "       420.7 , 426.  , 420.45, 428.  , 440.1 , 439.3 , 432.2 , 435.85,\n",
              "       422.4 , 416.65, 411.35, 415.7 , 419.  , 410.75, 412.55, 416.1 ,\n",
              "       419.15, 416.5 ])"
            ]
          },
          "metadata": {},
          "execution_count": 122
        }
      ]
    },
    {
      "cell_type": "code",
      "source": [
        "split_size = int(0.8 * len(stock_price))\n",
        "# Create train data splits (everything before the split)\n",
        "X_train, y_train = timesteps[:split_size], prices[:split_size]\n",
        "\n",
        "# Create test data splits (everything after the split)\n",
        "X_test, y_test = timesteps[split_size:], prices[split_size:]"
      ],
      "metadata": {
        "id": "CU2WCVbiXhs7"
      },
      "execution_count": null,
      "outputs": []
    },
    {
      "cell_type": "code",
      "source": [
        "len(X_train), len(X_test), len(y_train), len(y_test)"
      ],
      "metadata": {
        "colab": {
          "base_uri": "https://localhost:8080/"
        },
        "id": "PzYiVNyGXnEJ",
        "outputId": "05b05389-7d78-4ae0-fe26-61c09db44f9c"
      },
      "execution_count": null,
      "outputs": [
        {
          "output_type": "execute_result",
          "data": {
            "text/plain": [
              "(404, 102, 404, 102)"
            ]
          },
          "metadata": {},
          "execution_count": 124
        }
      ]
    },
    {
      "cell_type": "code",
      "source": [
        "plt.figure(figsize=(10, 7))\n",
        "plt.scatter(X_train, y_train, s=5, label=\"Train data\")\n",
        "plt.scatter(X_test, y_test, s=5, label=\"Test data\")\n",
        "plt.xlabel(\"Date\")\n",
        "plt.ylabel(\"Stock price\")\n",
        "plt.legend(fontsize=14)\n",
        "plt.show();"
      ],
      "metadata": {
        "colab": {
          "base_uri": "https://localhost:8080/",
          "height": 442
        },
        "id": "r7BdFEGcXrHZ",
        "outputId": "b51ca779-19fe-4a48-f616-503c0a06c2f5"
      },
      "execution_count": null,
      "outputs": [
        {
          "output_type": "display_data",
          "data": {
            "text/plain": [
              "<Figure size 720x504 with 1 Axes>"
            ],
            "image/png": "[encoded data removed]"
          },
          "metadata": {
            "needs_background": "light"
          }
        }
      ]
    },
    {
      "cell_type": "code",
      "source": [
        "import numpy as np"
      ],
      "metadata": {
        "id": "04qmTculXtiC"
      },
      "execution_count": null,
      "outputs": []
    },
    {
      "cell_type": "code",
      "source": [
        "from sklearn.ensemble import RandomForestRegressor\n",
        "from sklearn.ensemble import RandomForestRegressor\n",
        "regressor = RandomForestRegressor(n_estimators = 40, random_state = 0)\n"
      ],
      "metadata": {
        "id": "jbis8S5DX2Za"
      },
      "execution_count": null,
      "outputs": []
    },
    {
      "cell_type": "code",
      "source": [
        "HORIZON = 1 # predict 1 step at a time\n",
        "WINDOW_SIZE = 7"
      ],
      "metadata": {
        "id": "L-LzLNE7YCIC"
      },
      "execution_count": null,
      "outputs": []
    },
    {
      "cell_type": "code",
      "source": [
        "def get_labelled_windows(x, horizon=1):\n",
        "  \"\"\"\n",
        "  Creates labels for windowed dataset.\n",
        "\n",
        "  E.g. if horizon=1 (default)\n",
        "  Input: [1, 2, 3, 4, 5, 6] -> Output: ([1, 2, 3, 4, 5], [6])\n",
        "  \"\"\"\n",
        "  return x[:, :-horizon], x[:, -horizon:]"
      ],
      "metadata": {
        "id": "hxlML65TYQTB"
      },
      "execution_count": null,
      "outputs": []
    },
    {
      "cell_type": "code",
      "source": [
        "def make_windows(x, window_size=7, horizon=1):\n",
        "  \"\"\"\n",
        "  Turns a 1D array into a 2D array of sequential windows of window_size.\n",
        "  \"\"\"\n",
        "  # 1. Create a window of specific window_size (add the horizon on the end for later labelling)\n",
        "  window_step = np.expand_dims(np.arange(window_size+horizon), axis=0)\n",
        "  # print(f\"Window step:\\n {window_step}\")\n",
        "\n",
        "  # 2. Create a 2D array of multiple window steps (minus 1 to account for 0 indexing)\n",
        "  window_indexes = window_step + np.expand_dims(np.arange(len(x)-(window_size+horizon-1)), axis=0).T # create 2D array of windows of size window_size\n",
        "  # print(f\"Window indexes:\\n {window_indexes[:3], window_indexes[-3:], window_indexes.shape}\")\n",
        "\n",
        "  # 3. Index on the target array (time series) with 2D array of multiple window steps\n",
        "  windowed_array = x[window_indexes]\n",
        "\n",
        "  # 4. Get the labelled windows\n",
        "  windows, labels = get_labelled_windows(windowed_array, horizon=horizon)\n",
        "\n",
        "  return windows, labels"
      ],
      "metadata": {
        "id": "PQ0thEKpYeQz"
      },
      "execution_count": null,
      "outputs": []
    },
    {
      "cell_type": "code",
      "source": [
        "full_windows, full_labels = make_windows(prices, window_size=WINDOW_SIZE, horizon=HORIZON)\n",
        "len(full_windows), len(full_labels)"
      ],
      "metadata": {
        "colab": {
          "base_uri": "https://localhost:8080/"
        },
        "id": "7h-hjy6EYikB",
        "outputId": "8f073ccc-457e-4956-d762-a89b06485a83"
      },
      "execution_count": null,
      "outputs": [
        {
          "output_type": "execute_result",
          "data": {
            "text/plain": [
              "(499, 499)"
            ]
          },
          "metadata": {},
          "execution_count": 131
        }
      ]
    },
    {
      "cell_type": "code",
      "source": [
        "for i in range(3):\n",
        "  print(f\"Window: {full_windows[i]} -> Label: {full_labels[i]}\")"
      ],
      "metadata": {
        "colab": {
          "base_uri": "https://localhost:8080/"
        },
        "id": "KMugn1LoYlm6",
        "outputId": "2d6e990d-b9f2-4167-f132-bed1ef7035a6"
      },
      "execution_count": null,
      "outputs": [
        {
          "output_type": "stream",
          "name": "stdout",
          "text": [
            "Window: [285.55 296.4  297.05 301.8  307.75 305.05 307.75] -> Label: [307.8]\n",
            "Window: [296.4  297.05 301.8  307.75 305.05 307.75 307.8 ] -> Label: [313.95]\n",
            "Window: [297.05 301.8  307.75 305.05 307.75 307.8  313.95] -> Label: [318.2]\n"
          ]
        }
      ]
    },
    {
      "cell_type": "code",
      "source": [
        "def make_train_test_splits(windows, labels, test_split=0.2):\n",
        "  \"\"\"\n",
        "  Splits matching pairs of windows and labels into train and test splits.\n",
        "  \"\"\"\n",
        "  split_size = int(len(windows) * (1-test_split)) # this will default to 80% train/20% test\n",
        "  train_windows = windows[:split_size]\n",
        "  train_labels = labels[:split_size]\n",
        "  test_windows = windows[split_size:]\n",
        "  test_labels = labels[split_size:]\n",
        "  return train_windows, test_windows, train_labels, test_labels"
      ],
      "metadata": {
        "id": "kXyxRtiKYpQi"
      },
      "execution_count": null,
      "outputs": []
    },
    {
      "cell_type": "code",
      "source": [
        "train_windows, test_windows, train_labels, test_labels = make_train_test_splits(full_windows, full_labels)\n",
        "len(train_windows), len(test_windows), len(train_labels), len(test_labels)"
      ],
      "metadata": {
        "colab": {
          "base_uri": "https://localhost:8080/"
        },
        "id": "0C3sDXhiYufp",
        "outputId": "de86ac71-c224-44b4-896d-a9d8a6af1022"
      },
      "execution_count": null,
      "outputs": [
        {
          "output_type": "execute_result",
          "data": {
            "text/plain": [
              "(399, 100, 399, 100)"
            ]
          },
          "metadata": {},
          "execution_count": 23
        }
      ]
    },
    {
      "cell_type": "code",
      "source": [
        "train_windows[:5], train_labels[:5]"
      ],
      "metadata": {
        "colab": {
          "base_uri": "https://localhost:8080/"
        },
        "id": "e3aeWIEGYxLY",
        "outputId": "322297d7-cc71-4e23-a9ac-5e848bf38a13"
      },
      "execution_count": null,
      "outputs": [
        {
          "output_type": "execute_result",
          "data": {
            "text/plain": [
              "(array([[285.55, 296.4 , 297.05, 301.8 , 307.75, 305.05, 307.75],\n",
              "        [296.4 , 297.05, 301.8 , 307.75, 305.05, 307.75, 307.8 ],\n",
              "        [297.05, 301.8 , 307.75, 305.05, 307.75, 307.8 , 313.95],\n",
              "        [301.8 , 307.75, 305.05, 307.75, 307.8 , 313.95, 318.2 ],\n",
              "        [307.75, 305.05, 307.75, 307.8 , 313.95, 318.2 , 286.55]]),\n",
              " array([[307.8 ],\n",
              "        [313.95],\n",
              "        [318.2 ],\n",
              "        [286.55],\n",
              "        [302.85]]))"
            ]
          },
          "metadata": {},
          "execution_count": 24
        }
      ]
    },
    {
      "cell_type": "code",
      "source": [
        "regressor.fit(train_windows, train_labels)"
      ],
      "metadata": {
        "colab": {
          "base_uri": "https://localhost:8080/",
          "height": 129
        },
        "id": "w4rAW1Z1Yz0Q",
        "outputId": "b8e18f4b-3d47-43e2-b44d-7aa20f4f41f1"
      },
      "execution_count": null,
      "outputs": [
        {
          "output_type": "stream",
          "name": "stderr",
          "text": [
            "<ipython-input-106-4558128dafb5>:1: DataConversionWarning: A column-vector y was passed when a 1d array was expected. Please change the shape of y to (n_samples,), for example using ravel().\n",
            "  regressor.fit(train_windows, train_labels)\n"
          ]
        },
        {
          "output_type": "execute_result",
          "data": {
            "text/plain": [
              "RandomForestRegressor(n_estimators=40, random_state=0)"
            ],
            "text/html": [
              "<style>#sk-container-id-7 {color: black;background-color: white;}#sk-container-id-7 pre{padding: 0;}#sk-container-id-7 div.sk-toggleable {background-color: white;}#sk-container-id-7 label.sk-toggleable__label {cursor: pointer;display: block;width: 100%;margin-bottom: 0;padding: 0.3em;box-sizing: border-box;text-align: center;}#sk-container-id-7 label.sk-toggleable__label-arrow:before {content: \"▸\";float: left;margin-right: 0.25em;color: #696969;}#sk-container-id-7 label.sk-toggleable__label-arrow:hover:before {color: black;}#sk-container-id-7 div.sk-estimator:hover label.sk-toggleable__label-arrow:before {color: black;}#sk-container-id-7 div.sk-toggleable__content {max-height: 0;max-width: 0;overflow: hidden;text-align: left;background-color: #f0f8ff;}#sk-container-id-7 div.sk-toggleable__content pre {margin: 0.2em;color: black;border-radius: 0.25em;background-color: #f0f8ff;}#sk-container-id-7 input.sk-toggleable__control:checked~div.sk-toggleable__content {max-height: 200px;max-width: 100%;overflow: auto;}#sk-container-id-7 input.sk-toggleable__control:checked~label.sk-toggleable__label-arrow:before {content: \"▾\";}#sk-container-id-7 div.sk-estimator input.sk-toggleable__control:checked~label.sk-toggleable__label {background-color: #d4ebff;}#sk-container-id-7 div.sk-label input.sk-toggleable__control:checked~label.sk-toggleable__label {background-color: #d4ebff;}#sk-container-id-7 input.sk-hidden--visually {border: 0;clip: rect(1px 1px 1px 1px);clip: rect(1px, 1px, 1px, 1px);height: 1px;margin: -1px;overflow: hidden;padding: 0;position: absolute;width: 1px;}#sk-container-id-7 div.sk-estimator {font-family: monospace;background-color: #f0f8ff;border: 1px dotted black;border-radius: 0.25em;box-sizing: border-box;margin-bottom: 0.5em;}#sk-container-id-7 div.sk-estimator:hover {background-color: #d4ebff;}#sk-container-id-7 div.sk-parallel-item::after {content: \"\";width: 100%;border-bottom: 1px solid gray;flex-grow: 1;}#sk-container-id-7 div.sk-label:hover label.sk-toggleable__label {background-color: #d4ebff;}#sk-container-id-7 div.sk-serial::before {content: \"\";position: absolute;border-left: 1px solid gray;box-sizing: border-box;top: 0;bottom: 0;left: 50%;z-index: 0;}#sk-container-id-7 div.sk-serial {display: flex;flex-direction: column;align-items: center;background-color: white;padding-right: 0.2em;padding-left: 0.2em;position: relative;}#sk-container-id-7 div.sk-item {position: relative;z-index: 1;}#sk-container-id-7 div.sk-parallel {display: flex;align-items: stretch;justify-content: center;background-color: white;position: relative;}#sk-container-id-7 div.sk-item::before, #sk-container-id-7 div.sk-parallel-item::before {content: \"\";position: absolute;border-left: 1px solid gray;box-sizing: border-box;top: 0;bottom: 0;left: 50%;z-index: -1;}#sk-container-id-7 div.sk-parallel-item {display: flex;flex-direction: column;z-index: 1;position: relative;background-color: white;}#sk-container-id-7 div.sk-parallel-item:first-child::after {align-self: flex-end;width: 50%;}#sk-container-id-7 div.sk-parallel-item:last-child::after {align-self: flex-start;width: 50%;}#sk-container-id-7 div.sk-parallel-item:only-child::after {width: 0;}#sk-container-id-7 div.sk-dashed-wrapped {border: 1px dashed gray;margin: 0 0.4em 0.5em 0.4em;box-sizing: border-box;padding-bottom: 0.4em;background-color: white;}#sk-container-id-7 div.sk-label label {font-family: monospace;font-weight: bold;display: inline-block;line-height: 1.2em;}#sk-container-id-7 div.sk-label-container {text-align: center;}#sk-container-id-7 div.sk-container {/* jupyter's `normalize.less` sets `[hidden] { display: none; }` but bootstrap.min.css set `[hidden] { display: none !important; }` so we also need the `!important` here to be able to override the default hidden behavior on the sphinx rendered scikit-learn.org. See: https://github.com/scikit-learn/scikit-learn/issues/21755 */display: inline-block !important;position: relative;}#sk-container-id-7 div.sk-text-repr-fallback {display: none;}</style><div id=\"sk-container-id-7\" class=\"sk-top-container\"><div class=\"sk-text-repr-fallback\"><pre>RandomForestRegressor(n_estimators=40, random_state=0)</pre><b>In a Jupyter environment, please rerun this cell to show the HTML representation or trust the notebook. <br />On GitHub, the HTML representation is unable to render, please try loading this page with nbviewer.org.</b></div><div class=\"sk-container\" hidden><div class=\"sk-item\"><div class=\"sk-estimator sk-toggleable\"><input class=\"sk-toggleable__control sk-hidden--visually\" id=\"sk-estimator-id-7\" type=\"checkbox\" checked><label for=\"sk-estimator-id-7\" class=\"sk-toggleable__label sk-toggleable__label-arrow\">RandomForestRegressor</label><div class=\"sk-toggleable__content\"><pre>RandomForestRegressor(n_estimators=40, random_state=0)</pre></div></div></div></div></div>"
            ]
          },
          "metadata": {},
          "execution_count": 106
        }
      ]
    },
    {
      "cell_type": "code",
      "source": [
        "predictions = regressor.predict(test_windows)\n",
        "len(test_windows)"
      ],
      "metadata": {
        "colab": {
          "base_uri": "https://localhost:8080/"
        },
        "id": "PCiDzRxUZ_9S",
        "outputId": "64a8ef37-64fd-4074-aaff-aa2a7504687e"
      },
      "execution_count": null,
      "outputs": [
        {
          "output_type": "execute_result",
          "data": {
            "text/plain": [
              "100"
            ]
          },
          "metadata": {},
          "execution_count": 101
        }
      ]
    },
    {
      "cell_type": "code",
      "source": [
        "predictions\n"
      ],
      "metadata": {
        "colab": {
          "base_uri": "https://localhost:8080/"
        },
        "id": "q8Ku3BAtaIti",
        "outputId": "dd5f0f01-5202-4708-d891-77d88f295f87"
      },
      "execution_count": null,
      "outputs": [
        {
          "output_type": "execute_result",
          "data": {
            "text/plain": [
              "array([423.133 , 417.441 , 431.82  , 432.834 , 436.007 , 407.4605,\n",
              "       421.    , 421.5325, 431.915 , 433.4315, 432.896 , 417.439 ,\n",
              "       421.625 , 419.2095, 427.8115, 420.309 , 423.6735, 432.0805,\n",
              "       436.446 , 434.3935, 435.746 , 432.9905, 431.6645, 432.182 ,\n",
              "       423.3445, 408.881 , 407.8945, 404.828 , 412.7665, 419.2185,\n",
              "       419.8   , 419.765 , 426.645 , 418.455 , 413.2345, 399.029 ,\n",
              "       397.4625, 392.1165, 392.925 , 397.751 , 399.754 , 395.6   ,\n",
              "       398.4965, 403.453 , 404.706 , 396.772 , 396.7345, 399.137 ,\n",
              "       399.6675, 418.201 , 416.4895, 407.0705, 416.012 , 420.7825,\n",
              "       419.515 , 412.631 , 399.0455, 401.665 , 413.19  , 419.971 ,\n",
              "       411.167 , 439.7245, 439.4935, 451.2345, 447.165 , 444.6335,\n",
              "       445.165 , 446.4645, 431.4875, 442.9765, 429.4395, 447.182 ,\n",
              "       446.8165, 445.459 , 447.4205, 447.481 , 443.777 , 446.7595,\n",
              "       430.69  , 430.8485, 428.419 , 436.762 , 406.0025, 413.24  ,\n",
              "       425.4865, 424.9105, 432.6045, 440.2575, 434.4115, 429.214 ,\n",
              "       431.806 , 417.202 , 405.554 , 404.4025, 418.0735, 418.6215,\n",
              "       412.674 , 416.783 , 422.4185, 417.752 ])"
            ]
          },
          "metadata": {},
          "execution_count": 107
        }
      ]
    },
    {
      "cell_type": "code",
      "source": [
        "from sklearn.tree import export_graphviz\n",
        "len(y_test)\n",
        "y_test"
      ],
      "metadata": {
        "colab": {
          "base_uri": "https://localhost:8080/"
        },
        "id": "fjw2_xhedxM7",
        "outputId": "ebaf8378-16df-4326-e77d-af5a0692bf6c"
      },
      "execution_count": null,
      "outputs": [
        {
          "output_type": "execute_result",
          "data": {
            "text/plain": [
              "array([422.15, 422.15, 416.25, 425.35, 435.  , 433.15, 412.2 , 423.5 ,\n",
              "       423.5 , 433.7 , 437.15, 431.55, 423.15, 423.8 , 421.1 , 424.7 ,\n",
              "       424.05, 423.4 , 433.2 , 433.25, 433.15, 439.4 , 438.25, 435.4 ,\n",
              "       428.75, 427.1 , 420.1 , 417.2 , 413.3 , 414.15, 418.5 , 417.9 ,\n",
              "       416.7 , 421.6 , 418.  , 410.5 , 402.6 , 394.45, 378.35, 384.8 ,\n",
              "       394.15, 391.3 , 385.9 , 387.95, 394.8 , 393.9 , 385.6 , 386.9 ,\n",
              "       382.  , 389.45, 412.9 , 418.2 , 412.25, 411.5 , 413.  , 415.3 ,\n",
              "       408.4 , 400.75, 403.15, 408.4 , 422.15, 419.05, 445.6 , 443.65,\n",
              "       452.1 , 446.65, 444.8 , 445.45, 442.  , 435.45, 440.1 , 436.75,\n",
              "       445.85, 441.05, 440.55, 444.15, 441.6 , 439.9 , 443.  , 436.5 ,\n",
              "       429.45, 433.2 , 427.75, 417.95, 420.7 , 426.  , 420.45, 428.  ,\n",
              "       440.1 , 439.3 , 432.2 , 435.85, 422.4 , 416.65, 411.35, 415.7 ,\n",
              "       419.  , 410.75, 412.55, 416.1 , 419.15, 416.5 ])"
            ]
          },
          "metadata": {},
          "execution_count": 108
        }
      ]
    },
    {
      "cell_type": "code",
      "source": [
        "plt.plot(range(0,100),predictions, label = \"Predicted Data\")\n",
        "plt.plot(range(-1,101), y_test, label=\"Test data\")"
      ],
      "metadata": {
        "colab": {
          "base_uri": "https://localhost:8080/",
          "height": 282
        },
        "id": "NnEZb-GLfCzC",
        "outputId": "78e8c704-4da8-4e97-d61b-cb3b50bdc456"
      },
      "execution_count": null,
      "outputs": [
        {
          "output_type": "execute_result",
          "data": {
            "text/plain": [
              "[<matplotlib.lines.Line2D at 0x7f41b9c62490>]"
            ]
          },
          "metadata": {},
          "execution_count": 115
        },
        {
          "output_type": "display_data",
          "data": {
            "text/plain": [
              "<Figure size 432x288 with 1 Axes>"
            ],
            "image/png": "[encoded data removed]"
          },
          "metadata": {
            "needs_background": "light"
          }
        }
      ]
    },
    {
      "cell_type": "code",
      "source": [
        " "
      ],
      "metadata": {
        "id": "nb2cVs8Jp_tb"
      },
      "execution_count": null,
      "outputs": []
    }
  ]
}