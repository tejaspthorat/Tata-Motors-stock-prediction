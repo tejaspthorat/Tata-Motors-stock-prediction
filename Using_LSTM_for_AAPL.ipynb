{
  "nbformat": 4,
  "nbformat_minor": 0,
  "metadata": {
    "colab": {
      "provenance": []
    },
    "kernelspec": {
      "name": "python3",
      "display_name": "Python 3"
    },
    "language_info": {
      "name": "python"
    },
    "accelerator": "GPU",
    "gpuClass": "standard"
  },
  "cells": [
    {
      "cell_type": "code",
      "execution_count": 1,
      "metadata": {
        "id": "S3uyTFvYJEFL"
      },
      "outputs": [],
      "source": [
        "import pandas as pd"
      ]
    },
    {
      "cell_type": "code",
      "source": [
        "df = pd.read_csv(\"/content/drive/MyDrive/Accumen challenge/AAPL.csv\",\n",
        "                   parse_dates=['Date'],\n",
        "                   index_col=['Date'])"
      ],
      "metadata": {
        "id": "F78Snex-KKrM"
      },
      "execution_count": 2,
      "outputs": []
    },
    {
      "cell_type": "code",
      "source": [
        "df['Close'].isna().sum()"
      ],
      "metadata": {
        "colab": {
          "base_uri": "https://localhost:8080/"
        },
        "id": "PX0tqcMiKTjz",
        "outputId": "2ea648c5-2304-43f3-e32b-852969ed750b"
      },
      "execution_count": 3,
      "outputs": [
        {
          "output_type": "execute_result",
          "data": {
            "text/plain": [
              "0"
            ]
          },
          "metadata": {},
          "execution_count": 3
        }
      ]
    },
    {
      "cell_type": "code",
      "source": [
        "df.head()"
      ],
      "metadata": {
        "colab": {
          "base_uri": "https://localhost:8080/",
          "height": 235
        },
        "id": "0UdbnHiVKZSj",
        "outputId": "e203d2d3-1560-4a87-c165-bc68d7f3ac5e"
      },
      "execution_count": 4,
      "outputs": [
        {
          "output_type": "execute_result",
          "data": {
            "text/plain": [
              "                Open      High       Low     Close  Adj Close     Volume\n",
              "Date                                                                    \n",
              "2000-01-03  0.936384  1.004464  0.907924  0.999442   0.850643  535796800\n",
              "2000-01-04  0.966518  0.987723  0.903460  0.915179   0.778926  512377600\n",
              "2000-01-05  0.926339  0.987165  0.919643  0.928571   0.790324  778321600\n",
              "2000-01-06  0.947545  0.955357  0.848214  0.848214   0.721930  767972800\n",
              "2000-01-07  0.861607  0.901786  0.852679  0.888393   0.756128  460734400"
            ],
            "text/html": [
              "\n",
              "  <div id=\"df-3c18174d-274f-4bd9-b229-acbf527d9dab\">\n",
              "    <div class=\"colab-df-container\">\n",
              "      <div>\n",
              "<style scoped>\n",
              "    .dataframe tbody tr th:only-of-type {\n",
              "        vertical-align: middle;\n",
              "    }\n",
              "\n",
              "    .dataframe tbody tr th {\n",
              "        vertical-align: top;\n",
              "    }\n",
              "\n",
              "    .dataframe thead th {\n",
              "        text-align: right;\n",
              "    }\n",
              "</style>\n",
              "<table border=\"1\" class=\"dataframe\">\n",
              "  <thead>\n",
              "    <tr style=\"text-align: right;\">\n",
              "      <th></th>\n",
              "      <th>Open</th>\n",
              "      <th>High</th>\n",
              "      <th>Low</th>\n",
              "      <th>Close</th>\n",
              "      <th>Adj Close</th>\n",
              "      <th>Volume</th>\n",
              "    </tr>\n",
              "    <tr>\n",
              "      <th>Date</th>\n",
              "      <th></th>\n",
              "      <th></th>\n",
              "      <th></th>\n",
              "      <th></th>\n",
              "      <th></th>\n",
              "      <th></th>\n",
              "    </tr>\n",
              "  </thead>\n",
              "  <tbody>\n",
              "    <tr>\n",
              "      <th>2000-01-03</th>\n",
              "      <td>0.936384</td>\n",
              "      <td>1.004464</td>\n",
              "      <td>0.907924</td>\n",
              "      <td>0.999442</td>\n",
              "      <td>0.850643</td>\n",
              "      <td>535796800</td>\n",
              "    </tr>\n",
              "    <tr>\n",
              "      <th>2000-01-04</th>\n",
              "      <td>0.966518</td>\n",
              "      <td>0.987723</td>\n",
              "      <td>0.903460</td>\n",
              "      <td>0.915179</td>\n",
              "      <td>0.778926</td>\n",
              "      <td>512377600</td>\n",
              "    </tr>\n",
              "    <tr>\n",
              "      <th>2000-01-05</th>\n",
              "      <td>0.926339</td>\n",
              "      <td>0.987165</td>\n",
              "      <td>0.919643</td>\n",
              "      <td>0.928571</td>\n",
              "      <td>0.790324</td>\n",
              "      <td>778321600</td>\n",
              "    </tr>\n",
              "    <tr>\n",
              "      <th>2000-01-06</th>\n",
              "      <td>0.947545</td>\n",
              "      <td>0.955357</td>\n",
              "      <td>0.848214</td>\n",
              "      <td>0.848214</td>\n",
              "      <td>0.721930</td>\n",
              "      <td>767972800</td>\n",
              "    </tr>\n",
              "    <tr>\n",
              "      <th>2000-01-07</th>\n",
              "      <td>0.861607</td>\n",
              "      <td>0.901786</td>\n",
              "      <td>0.852679</td>\n",
              "      <td>0.888393</td>\n",
              "      <td>0.756128</td>\n",
              "      <td>460734400</td>\n",
              "    </tr>\n",
              "  </tbody>\n",
              "</table>\n",
              "</div>\n",
              "      <button class=\"colab-df-convert\" onclick=\"convertToInteractive('df-3c18174d-274f-4bd9-b229-acbf527d9dab')\"\n",
              "              title=\"Convert this dataframe to an interactive table.\"\n",
              "              style=\"display:none;\">\n",
              "        \n",
              "  <svg xmlns=\"http://www.w3.org/2000/svg\" height=\"24px\"viewBox=\"0 0 24 24\"\n",
              "       width=\"24px\">\n",
              "    <path d=\"M0 0h24v24H0V0z\" fill=\"none\"/>\n",
              "    <path d=\"M18.56 5.44l.94 2.06.94-2.06 2.06-.94-2.06-.94-.94-2.06-.94 2.06-2.06.94zm-11 1L8.5 8.5l.94-2.06 2.06-.94-2.06-.94L8.5 2.5l-.94 2.06-2.06.94zm10 10l.94 2.06.94-2.06 2.06-.94-2.06-.94-.94-2.06-.94 2.06-2.06.94z\"/><path d=\"M17.41 7.96l-1.37-1.37c-.4-.4-.92-.59-1.43-.59-.52 0-1.04.2-1.43.59L10.3 9.45l-7.72 7.72c-.78.78-.78 2.05 0 2.83L4 21.41c.39.39.9.59 1.41.59.51 0 1.02-.2 1.41-.59l7.78-7.78 2.81-2.81c.8-.78.8-2.07 0-2.86zM5.41 20L4 18.59l7.72-7.72 1.47 1.35L5.41 20z\"/>\n",
              "  </svg>\n",
              "      </button>\n",
              "      \n",
              "  <style>\n",
              "    .colab-df-container {\n",
              "      display:flex;\n",
              "      flex-wrap:wrap;\n",
              "      gap: 12px;\n",
              "    }\n",
              "\n",
              "    .colab-df-convert {\n",
              "      background-color: #E8F0FE;\n",
              "      border: none;\n",
              "      border-radius: 50%;\n",
              "      cursor: pointer;\n",
              "      display: none;\n",
              "      fill: #1967D2;\n",
              "      height: 32px;\n",
              "      padding: 0 0 0 0;\n",
              "      width: 32px;\n",
              "    }\n",
              "\n",
              "    .colab-df-convert:hover {\n",
              "      background-color: #E2EBFA;\n",
              "      box-shadow: 0px 1px 2px rgba(60, 64, 67, 0.3), 0px 1px 3px 1px rgba(60, 64, 67, 0.15);\n",
              "      fill: #174EA6;\n",
              "    }\n",
              "\n",
              "    [theme=dark] .colab-df-convert {\n",
              "      background-color: #3B4455;\n",
              "      fill: #D2E3FC;\n",
              "    }\n",
              "\n",
              "    [theme=dark] .colab-df-convert:hover {\n",
              "      background-color: #434B5C;\n",
              "      box-shadow: 0px 1px 3px 1px rgba(0, 0, 0, 0.15);\n",
              "      filter: drop-shadow(0px 1px 2px rgba(0, 0, 0, 0.3));\n",
              "      fill: #FFFFFF;\n",
              "    }\n",
              "  </style>\n",
              "\n",
              "      <script>\n",
              "        const buttonEl =\n",
              "          document.querySelector('#df-3c18174d-274f-4bd9-b229-acbf527d9dab button.colab-df-convert');\n",
              "        buttonEl.style.display =\n",
              "          google.colab.kernel.accessAllowed ? 'block' : 'none';\n",
              "\n",
              "        async function convertToInteractive(key) {\n",
              "          const element = document.querySelector('#df-3c18174d-274f-4bd9-b229-acbf527d9dab');\n",
              "          const dataTable =\n",
              "            await google.colab.kernel.invokeFunction('convertToInteractive',\n",
              "                                                     [key], {});\n",
              "          if (!dataTable) return;\n",
              "\n",
              "          const docLinkHtml = 'Like what you see? Visit the ' +\n",
              "            '<a target=\"_blank\" href=https://colab.research.google.com/notebooks/data_table.ipynb>data table notebook</a>'\n",
              "            + ' to learn more about interactive tables.';\n",
              "          element.innerHTML = '';\n",
              "          dataTable['output_type'] = 'display_data';\n",
              "          await google.colab.output.renderOutput(dataTable, element);\n",
              "          const docLink = document.createElement('div');\n",
              "          docLink.innerHTML = docLinkHtml;\n",
              "          element.appendChild(docLink);\n",
              "        }\n",
              "      </script>\n",
              "    </div>\n",
              "  </div>\n",
              "  "
            ]
          },
          "metadata": {},
          "execution_count": 4
        }
      ]
    },
    {
      "cell_type": "code",
      "source": [
        "close_price = df['Close']"
      ],
      "metadata": {
        "id": "gXnXhsdYKbzb"
      },
      "execution_count": 5,
      "outputs": []
    },
    {
      "cell_type": "code",
      "source": [
        "stock_price = pd.DataFrame(df[\"Close\"]).rename(columns={\"Close\": \"Price\"})\n",
        "stock_price.head()"
      ],
      "metadata": {
        "colab": {
          "base_uri": "https://localhost:8080/",
          "height": 235
        },
        "id": "OiSzNi4_Kehd",
        "outputId": "82cd30ae-4008-49ff-b12a-3f80b819f8cf"
      },
      "execution_count": 6,
      "outputs": [
        {
          "output_type": "execute_result",
          "data": {
            "text/plain": [
              "               Price\n",
              "Date                \n",
              "2000-01-03  0.999442\n",
              "2000-01-04  0.915179\n",
              "2000-01-05  0.928571\n",
              "2000-01-06  0.848214\n",
              "2000-01-07  0.888393"
            ],
            "text/html": [
              "\n",
              "  <div id=\"df-fa124f12-9e8e-4ba5-9ce3-2a00630aab1d\">\n",
              "    <div class=\"colab-df-container\">\n",
              "      <div>\n",
              "<style scoped>\n",
              "    .dataframe tbody tr th:only-of-type {\n",
              "        vertical-align: middle;\n",
              "    }\n",
              "\n",
              "    .dataframe tbody tr th {\n",
              "        vertical-align: top;\n",
              "    }\n",
              "\n",
              "    .dataframe thead th {\n",
              "        text-align: right;\n",
              "    }\n",
              "</style>\n",
              "<table border=\"1\" class=\"dataframe\">\n",
              "  <thead>\n",
              "    <tr style=\"text-align: right;\">\n",
              "      <th></th>\n",
              "      <th>Price</th>\n",
              "    </tr>\n",
              "    <tr>\n",
              "      <th>Date</th>\n",
              "      <th></th>\n",
              "    </tr>\n",
              "  </thead>\n",
              "  <tbody>\n",
              "    <tr>\n",
              "      <th>2000-01-03</th>\n",
              "      <td>0.999442</td>\n",
              "    </tr>\n",
              "    <tr>\n",
              "      <th>2000-01-04</th>\n",
              "      <td>0.915179</td>\n",
              "    </tr>\n",
              "    <tr>\n",
              "      <th>2000-01-05</th>\n",
              "      <td>0.928571</td>\n",
              "    </tr>\n",
              "    <tr>\n",
              "      <th>2000-01-06</th>\n",
              "      <td>0.848214</td>\n",
              "    </tr>\n",
              "    <tr>\n",
              "      <th>2000-01-07</th>\n",
              "      <td>0.888393</td>\n",
              "    </tr>\n",
              "  </tbody>\n",
              "</table>\n",
              "</div>\n",
              "      <button class=\"colab-df-convert\" onclick=\"convertToInteractive('df-fa124f12-9e8e-4ba5-9ce3-2a00630aab1d')\"\n",
              "              title=\"Convert this dataframe to an interactive table.\"\n",
              "              style=\"display:none;\">\n",
              "        \n",
              "  <svg xmlns=\"http://www.w3.org/2000/svg\" height=\"24px\"viewBox=\"0 0 24 24\"\n",
              "       width=\"24px\">\n",
              "    <path d=\"M0 0h24v24H0V0z\" fill=\"none\"/>\n",
              "    <path d=\"M18.56 5.44l.94 2.06.94-2.06 2.06-.94-2.06-.94-.94-2.06-.94 2.06-2.06.94zm-11 1L8.5 8.5l.94-2.06 2.06-.94-2.06-.94L8.5 2.5l-.94 2.06-2.06.94zm10 10l.94 2.06.94-2.06 2.06-.94-2.06-.94-.94-2.06-.94 2.06-2.06.94z\"/><path d=\"M17.41 7.96l-1.37-1.37c-.4-.4-.92-.59-1.43-.59-.52 0-1.04.2-1.43.59L10.3 9.45l-7.72 7.72c-.78.78-.78 2.05 0 2.83L4 21.41c.39.39.9.59 1.41.59.51 0 1.02-.2 1.41-.59l7.78-7.78 2.81-2.81c.8-.78.8-2.07 0-2.86zM5.41 20L4 18.59l7.72-7.72 1.47 1.35L5.41 20z\"/>\n",
              "  </svg>\n",
              "      </button>\n",
              "      \n",
              "  <style>\n",
              "    .colab-df-container {\n",
              "      display:flex;\n",
              "      flex-wrap:wrap;\n",
              "      gap: 12px;\n",
              "    }\n",
              "\n",
              "    .colab-df-convert {\n",
              "      background-color: #E8F0FE;\n",
              "      border: none;\n",
              "      border-radius: 50%;\n",
              "      cursor: pointer;\n",
              "      display: none;\n",
              "      fill: #1967D2;\n",
              "      height: 32px;\n",
              "      padding: 0 0 0 0;\n",
              "      width: 32px;\n",
              "    }\n",
              "\n",
              "    .colab-df-convert:hover {\n",
              "      background-color: #E2EBFA;\n",
              "      box-shadow: 0px 1px 2px rgba(60, 64, 67, 0.3), 0px 1px 3px 1px rgba(60, 64, 67, 0.15);\n",
              "      fill: #174EA6;\n",
              "    }\n",
              "\n",
              "    [theme=dark] .colab-df-convert {\n",
              "      background-color: #3B4455;\n",
              "      fill: #D2E3FC;\n",
              "    }\n",
              "\n",
              "    [theme=dark] .colab-df-convert:hover {\n",
              "      background-color: #434B5C;\n",
              "      box-shadow: 0px 1px 3px 1px rgba(0, 0, 0, 0.15);\n",
              "      filter: drop-shadow(0px 1px 2px rgba(0, 0, 0, 0.3));\n",
              "      fill: #FFFFFF;\n",
              "    }\n",
              "  </style>\n",
              "\n",
              "      <script>\n",
              "        const buttonEl =\n",
              "          document.querySelector('#df-fa124f12-9e8e-4ba5-9ce3-2a00630aab1d button.colab-df-convert');\n",
              "        buttonEl.style.display =\n",
              "          google.colab.kernel.accessAllowed ? 'block' : 'none';\n",
              "\n",
              "        async function convertToInteractive(key) {\n",
              "          const element = document.querySelector('#df-fa124f12-9e8e-4ba5-9ce3-2a00630aab1d');\n",
              "          const dataTable =\n",
              "            await google.colab.kernel.invokeFunction('convertToInteractive',\n",
              "                                                     [key], {});\n",
              "          if (!dataTable) return;\n",
              "\n",
              "          const docLinkHtml = 'Like what you see? Visit the ' +\n",
              "            '<a target=\"_blank\" href=https://colab.research.google.com/notebooks/data_table.ipynb>data table notebook</a>'\n",
              "            + ' to learn more about interactive tables.';\n",
              "          element.innerHTML = '';\n",
              "          dataTable['output_type'] = 'display_data';\n",
              "          await google.colab.output.renderOutput(dataTable, element);\n",
              "          const docLink = document.createElement('div');\n",
              "          docLink.innerHTML = docLinkHtml;\n",
              "          element.appendChild(docLink);\n",
              "        }\n",
              "      </script>\n",
              "    </div>\n",
              "  </div>\n",
              "  "
            ]
          },
          "metadata": {},
          "execution_count": 6
        }
      ]
    },
    {
      "cell_type": "code",
      "source": [
        "import matplotlib.pyplot as plt\n",
        "\n",
        "stock_price.plot()\n",
        "plt.ylabel(\"Price\")\n",
        "plt.title(\"AAPL\")"
      ],
      "metadata": {
        "colab": {
          "base_uri": "https://localhost:8080/",
          "height": 302
        },
        "id": "lzSCNMEKKjqy",
        "outputId": "b631854c-d58b-4632-8583-1dc5d917b459"
      },
      "execution_count": 7,
      "outputs": [
        {
          "output_type": "execute_result",
          "data": {
            "text/plain": [
              "Text(0.5, 1.0, 'AAPL')"
            ]
          },
          "metadata": {},
          "execution_count": 7
        },
        {
          "output_type": "display_data",
          "data": {
            "text/plain": [
              "<Figure size 432x288 with 1 Axes>"
            ],
            "image/png": "[encoded data removed]"
          },
          "metadata": {
            "needs_background": "light"
          }
        }
      ]
    },
    {
      "cell_type": "code",
      "source": [
        "import numpy as np\n",
        "from sklearn.preprocessing import MinMaxScaler\n",
        "scaler=MinMaxScaler(feature_range=(0,1))\n",
        "timesteps = stock_price.index.to_numpy()\n",
        "prices = scaler.fit_transform(np.array(stock_price).reshape(-1,1))"
      ],
      "metadata": {
        "id": "0Pr4pNIAKm3q"
      },
      "execution_count": 9,
      "outputs": []
    },
    {
      "cell_type": "code",
      "source": [
        "prices"
      ],
      "metadata": {
        "colab": {
          "base_uri": "https://localhost:8080/"
        },
        "id": "ZyhHu5RRKqOS",
        "outputId": "844e685a-556b-4558-def8-f50619cd7847"
      },
      "execution_count": 10,
      "outputs": [
        {
          "output_type": "execute_result",
          "data": {
            "text/plain": [
              "array([[0.00420934],\n",
              "       [0.00374579],\n",
              "       [0.00381946],\n",
              "       ...,\n",
              "       [0.86697896],\n",
              "       [0.87303033],\n",
              "       [0.88029206]])"
            ]
          },
          "metadata": {},
          "execution_count": 10
        }
      ]
    },
    {
      "cell_type": "code",
      "source": [
        "split_size = int(0.8 * len(stock_price))\n",
        "# Create train data splits (everything before the split)\n",
        "X_train, y_train = timesteps[:split_size], prices[:split_size]\n",
        "\n",
        "# Create test data splits (everything after the split)\n",
        "X_test, y_test = timesteps[split_size:], prices[split_size:]"
      ],
      "metadata": {
        "id": "oPnw7kGXKr9C"
      },
      "execution_count": 11,
      "outputs": []
    },
    {
      "cell_type": "code",
      "source": [
        "len(X_train), len(X_test), len(y_train), len(y_test)"
      ],
      "metadata": {
        "colab": {
          "base_uri": "https://localhost:8080/"
        },
        "id": "3S-gtJQeKuIy",
        "outputId": "a40b599e-b780-4ab2-8a5e-e96786e71e9d"
      },
      "execution_count": 12,
      "outputs": [
        {
          "output_type": "execute_result",
          "data": {
            "text/plain": [
              "(4675, 1169, 4675, 1169)"
            ]
          },
          "metadata": {},
          "execution_count": 12
        }
      ]
    },
    {
      "cell_type": "code",
      "source": [
        "plt.figure(figsize=(10, 7))\n",
        "plt.scatter(X_train, y_train, s=5, label=\"Train data\")\n",
        "plt.scatter(X_test, y_test, s=5, label=\"Test data\")\n",
        "plt.xlabel(\"Date\")\n",
        "plt.ylabel(\"Stock price\")\n",
        "plt.legend(fontsize=14)\n",
        "plt.show();"
      ],
      "metadata": {
        "colab": {
          "base_uri": "https://localhost:8080/",
          "height": 442
        },
        "id": "EDaleU3VKwPD",
        "outputId": "1a58f72c-9325-48c5-eddf-e3fe8e04195c"
      },
      "execution_count": 13,
      "outputs": [
        {
          "output_type": "display_data",
          "data": {
            "text/plain": [
              "<Figure size 720x504 with 1 Axes>"
            ],
            "image/png": "[encoded data removed]"
          },
          "metadata": {
            "needs_background": "light"
          }
        }
      ]
    },
    {
      "cell_type": "code",
      "source": [
        "from tensorflow.keras.models import Sequential\n",
        "from tensorflow.keras.layers import Dense\n",
        "from tensorflow.keras.layers import LSTM"
      ],
      "metadata": {
        "id": "-7VyQmwOKyhJ"
      },
      "execution_count": 14,
      "outputs": []
    },
    {
      "cell_type": "code",
      "source": [
        "HORIZON = 1 # predict 1 step at a time\n",
        "WINDOW_SIZE = 7"
      ],
      "metadata": {
        "id": "ln7nKImxLJwD"
      },
      "execution_count": 15,
      "outputs": []
    },
    {
      "cell_type": "code",
      "source": [
        "def get_labelled_windows(x, horizon=1):\n",
        "  \"\"\"\n",
        "  Creates labels for windowed dataset.\n",
        "\n",
        "  E.g. if horizon=1 (default)\n",
        "  Input: [1, 2, 3, 4, 5, 6] -> Output: ([1, 2, 3, 4, 5], [6])\n",
        "  \"\"\"\n",
        "  return x[:, :-horizon], x[:, -horizon:]"
      ],
      "metadata": {
        "id": "7fxynSifLaT7"
      },
      "execution_count": 16,
      "outputs": []
    },
    {
      "cell_type": "code",
      "source": [
        "def make_windows(x, window_size=7, horizon=1):\n",
        "  \"\"\"\n",
        "  Turns a 1D array into a 2D array of sequential windows of window_size.\n",
        "  \"\"\"\n",
        "  # 1. Create a window of specific window_size (add the horizon on the end for later labelling)\n",
        "  window_step = np.expand_dims(np.arange(window_size+horizon), axis=0)\n",
        "  # print(f\"Window step:\\n {window_step}\")\n",
        "\n",
        "  # 2. Create a 2D array of multiple window steps (minus 1 to account for 0 indexing)\n",
        "  window_indexes = window_step + np.expand_dims(np.arange(len(x)-(window_size+horizon-1)), axis=0).T # create 2D array of windows of size window_size\n",
        "  # print(f\"Window indexes:\\n {window_indexes[:3], window_indexes[-3:], window_indexes.shape}\")\n",
        "\n",
        "  # 3. Index on the target array (time series) with 2D array of multiple window steps\n",
        "  windowed_array = x[window_indexes]\n",
        "\n",
        "  # 4. Get the labelled windows\n",
        "  windows, labels = get_labelled_windows(windowed_array, horizon=horizon)\n",
        "\n",
        "  return windows, labels"
      ],
      "metadata": {
        "id": "mPbb1x7PMkoz"
      },
      "execution_count": 17,
      "outputs": []
    },
    {
      "cell_type": "code",
      "source": [
        "import numpy as np\n",
        "full_windows, full_labels = make_windows(prices, window_size=WINDOW_SIZE, horizon=HORIZON)\n",
        "len(full_windows), len(full_labels)"
      ],
      "metadata": {
        "colab": {
          "base_uri": "https://localhost:8080/"
        },
        "id": "_aV6IjSVMmpT",
        "outputId": "906c6d15-ce82-4b17-950f-912532b08b9c"
      },
      "execution_count": 18,
      "outputs": [
        {
          "output_type": "execute_result",
          "data": {
            "text/plain": [
              "(5837, 5837)"
            ]
          },
          "metadata": {},
          "execution_count": 18
        }
      ]
    },
    {
      "cell_type": "code",
      "source": [
        "for i in range(3):\n",
        "  print(f\"Window: {full_windows[i]} -> Label: {full_labels[i]}\")"
      ],
      "metadata": {
        "colab": {
          "base_uri": "https://localhost:8080/"
        },
        "id": "J2xmWv20Moxr",
        "outputId": "fa62524f-c7eb-4b59-fb38-3018c59e3b80"
      },
      "execution_count": 19,
      "outputs": [
        {
          "output_type": "stream",
          "name": "stdout",
          "text": [
            "Window: [[0.00420934]\n",
            " [0.00374579]\n",
            " [0.00381946]\n",
            " [0.00337739]\n",
            " [0.00359843]\n",
            " [0.00351247]\n",
            " [0.00326688]] -> Label: [[0.00299366]]\n",
            "Window: [[0.00374579]\n",
            " [0.00381946]\n",
            " [0.00337739]\n",
            " [0.00359843]\n",
            " [0.00351247]\n",
            " [0.00326688]\n",
            " [0.00299366]] -> Label: [[0.00346335]]\n",
            "Window: [[0.00381946]\n",
            " [0.00337739]\n",
            " [0.00359843]\n",
            " [0.00351247]\n",
            " [0.00326688]\n",
            " [0.00299366]\n",
            " [0.00346335]] -> Label: [[0.00364447]]\n"
          ]
        }
      ]
    },
    {
      "cell_type": "code",
      "source": [
        "time,time_labels = make_windows(timesteps,window_size=WINDOW_SIZE, horizon=HORIZON)\n",
        "len(time),len(time_labels)"
      ],
      "metadata": {
        "colab": {
          "base_uri": "https://localhost:8080/"
        },
        "id": "YB4-V9pVMuDD",
        "outputId": "23bd3566-62c7-46ae-84cb-4f62d78cb0dd"
      },
      "execution_count": 20,
      "outputs": [
        {
          "output_type": "execute_result",
          "data": {
            "text/plain": [
              "(5837, 5837)"
            ]
          },
          "metadata": {},
          "execution_count": 20
        }
      ]
    },
    {
      "cell_type": "code",
      "source": [
        "for i in range(3):\n",
        "  print(f\"Window: {time[i]} -> Label: {time_labels[i]}\")"
      ],
      "metadata": {
        "colab": {
          "base_uri": "https://localhost:8080/"
        },
        "id": "qA1UaWqaMw8L",
        "outputId": "dc2fba4c-76d3-40ef-b09c-b2acd3f190f0"
      },
      "execution_count": 21,
      "outputs": [
        {
          "output_type": "stream",
          "name": "stdout",
          "text": [
            "Window: ['2000-01-03T00:00:00.000000000' '2000-01-04T00:00:00.000000000'\n",
            " '2000-01-05T00:00:00.000000000' '2000-01-06T00:00:00.000000000'\n",
            " '2000-01-07T00:00:00.000000000' '2000-01-10T00:00:00.000000000'\n",
            " '2000-01-11T00:00:00.000000000'] -> Label: ['2000-01-12T00:00:00.000000000']\n",
            "Window: ['2000-01-04T00:00:00.000000000' '2000-01-05T00:00:00.000000000'\n",
            " '2000-01-06T00:00:00.000000000' '2000-01-07T00:00:00.000000000'\n",
            " '2000-01-10T00:00:00.000000000' '2000-01-11T00:00:00.000000000'\n",
            " '2000-01-12T00:00:00.000000000'] -> Label: ['2000-01-13T00:00:00.000000000']\n",
            "Window: ['2000-01-05T00:00:00.000000000' '2000-01-06T00:00:00.000000000'\n",
            " '2000-01-07T00:00:00.000000000' '2000-01-10T00:00:00.000000000'\n",
            " '2000-01-11T00:00:00.000000000' '2000-01-12T00:00:00.000000000'\n",
            " '2000-01-13T00:00:00.000000000'] -> Label: ['2000-01-14T00:00:00.000000000']\n"
          ]
        }
      ]
    },
    {
      "cell_type": "code",
      "source": [
        "def make_train_test_splits(windows, labels, test_split=0.2):\n",
        "  \"\"\"\n",
        "  Splits matching pairs of windows and labels into train and test splits.\n",
        "  \"\"\"\n",
        "  split_size = int(len(windows) * (1-test_split)) # this will default to 80% train/20% test\n",
        "  train_windows = windows[:split_size]\n",
        "  train_labels = labels[:split_size]\n",
        "  test_windows = windows[split_size:]\n",
        "  test_labels = labels[split_size:]\n",
        "  return train_windows, test_windows, train_labels, test_labels"
      ],
      "metadata": {
        "id": "l3a8x5gCMzLj"
      },
      "execution_count": 22,
      "outputs": []
    },
    {
      "cell_type": "code",
      "source": [
        "train_windows, test_windows, train_labels, test_labels = make_train_test_splits(full_windows, full_labels)\n",
        "len(train_windows), len(test_windows), len(train_labels), len(test_labels)"
      ],
      "metadata": {
        "colab": {
          "base_uri": "https://localhost:8080/"
        },
        "id": "9q1ZKwkhM1uj",
        "outputId": "ca23a9c9-d692-4964-b253-d4687f6d238d"
      },
      "execution_count": 23,
      "outputs": [
        {
          "output_type": "execute_result",
          "data": {
            "text/plain": [
              "(4669, 1168, 4669, 1168)"
            ]
          },
          "metadata": {},
          "execution_count": 23
        }
      ]
    },
    {
      "cell_type": "code",
      "source": [
        "time_train,time_test,time_train_labels,time_test_labels = make_train_test_splits(time,time_labels)\n",
        "len(time_train), len(time_test), len(time_train_labels), len(time_test_labels)"
      ],
      "metadata": {
        "colab": {
          "base_uri": "https://localhost:8080/"
        },
        "id": "c_l79OJsM3m6",
        "outputId": "08b27218-80bd-470d-8957-9b2ee3e5b5a1"
      },
      "execution_count": 24,
      "outputs": [
        {
          "output_type": "execute_result",
          "data": {
            "text/plain": [
              "(4669, 1168, 4669, 1168)"
            ]
          },
          "metadata": {},
          "execution_count": 24
        }
      ]
    },
    {
      "cell_type": "code",
      "source": [
        "train_windows.shape , train_labels.shape"
      ],
      "metadata": {
        "colab": {
          "base_uri": "https://localhost:8080/"
        },
        "id": "6cs8KorxM6qb",
        "outputId": "ce73dca1-37a2-4031-9e38-8a587003dd80"
      },
      "execution_count": 25,
      "outputs": [
        {
          "output_type": "execute_result",
          "data": {
            "text/plain": [
              "((4669, 7, 1), (4669, 1, 1))"
            ]
          },
          "metadata": {},
          "execution_count": 25
        }
      ]
    },
    {
      "cell_type": "code",
      "source": [
        "train_labels = train_labels.reshape((4669))"
      ],
      "metadata": {
        "id": "MWnh1joLM-OK"
      },
      "execution_count": 26,
      "outputs": []
    },
    {
      "cell_type": "code",
      "source": [
        "train_labels"
      ],
      "metadata": {
        "colab": {
          "base_uri": "https://localhost:8080/"
        },
        "id": "fq3snFeSNYrM",
        "outputId": "979c8839-ebc1-4f1b-e6e5-6757f7f7b6fd"
      },
      "execution_count": 27,
      "outputs": [
        {
          "output_type": "execute_result",
          "data": {
            "text/plain": [
              "array([0.00299366, 0.00346335, 0.00364447, ..., 0.260421  , 0.27583836,\n",
              "       0.28393901])"
            ]
          },
          "metadata": {},
          "execution_count": 27
        }
      ]
    },
    {
      "cell_type": "code",
      "source": [
        "test_labels.shape, test_windows.shape"
      ],
      "metadata": {
        "colab": {
          "base_uri": "https://localhost:8080/"
        },
        "id": "W2E5SeYmNddE",
        "outputId": "775376a5-73e0-4472-f76f-b2eec68ded67"
      },
      "execution_count": 28,
      "outputs": [
        {
          "output_type": "execute_result",
          "data": {
            "text/plain": [
              "((1168, 1, 1), (1168, 7, 1))"
            ]
          },
          "metadata": {},
          "execution_count": 28
        }
      ]
    },
    {
      "cell_type": "code",
      "source": [
        "test_labels = test_labels.reshape((1168))"
      ],
      "metadata": {
        "id": "Zff5aXcgNpPi"
      },
      "execution_count": 29,
      "outputs": []
    },
    {
      "cell_type": "code",
      "source": [
        "test_labels.shape"
      ],
      "metadata": {
        "colab": {
          "base_uri": "https://localhost:8080/"
        },
        "id": "GzA4ZsITNt8K",
        "outputId": "218dd7dc-2091-431d-c11e-3a5961448c24"
      },
      "execution_count": 30,
      "outputs": [
        {
          "output_type": "execute_result",
          "data": {
            "text/plain": [
              "(1168,)"
            ]
          },
          "metadata": {},
          "execution_count": 30
        }
      ]
    },
    {
      "cell_type": "code",
      "source": [
        "train_windows =train_windows.reshape(train_windows.shape[0],train_windows.shape[1] , 1)\n",
        "test_windows = test_windows.reshape(test_windows.shape[0],test_windows.shape[1] , 1)"
      ],
      "metadata": {
        "id": "QfF_R1RTOBUc"
      },
      "execution_count": 31,
      "outputs": []
    },
    {
      "cell_type": "code",
      "source": [
        "train_windows.shape , test_windows.shape"
      ],
      "metadata": {
        "colab": {
          "base_uri": "https://localhost:8080/"
        },
        "id": "6GAXP6HKOXfR",
        "outputId": "1da1fc86-c649-4966-8ddb-a6c50d3604af"
      },
      "execution_count": 32,
      "outputs": [
        {
          "output_type": "execute_result",
          "data": {
            "text/plain": [
              "((4669, 7, 1), (1168, 7, 1))"
            ]
          },
          "metadata": {},
          "execution_count": 32
        }
      ]
    },
    {
      "cell_type": "code",
      "source": [],
      "metadata": {
        "id": "NzCf1wxWQhdF"
      },
      "execution_count": 32,
      "outputs": []
    },
    {
      "cell_type": "code",
      "source": [
        "model=Sequential()\n",
        "model.add(LSTM(50,return_sequences=True,input_shape=(7,1)))\n",
        "model.add(LSTM(50,return_sequences=True))\n",
        "model.add(LSTM(50))\n",
        "model.add(Dense(1))\n",
        "model.compile(loss='mean_squared_error',optimizer='adam')"
      ],
      "metadata": {
        "id": "dQml8KUzOdHE"
      },
      "execution_count": 33,
      "outputs": []
    },
    {
      "cell_type": "code",
      "source": [
        "model.summary()"
      ],
      "metadata": {
        "colab": {
          "base_uri": "https://localhost:8080/"
        },
        "id": "ermWmz92OjaT",
        "outputId": "506f992f-bdda-4ea9-9cd6-ebde485d8bfb"
      },
      "execution_count": 34,
      "outputs": [
        {
          "output_type": "stream",
          "name": "stdout",
          "text": [
            "Model: \"sequential\"\n",
            "_________________________________________________________________\n",
            " Layer (type)                Output Shape              Param #   \n",
            "=================================================================\n",
            " lstm (LSTM)                 (None, 7, 50)             10400     \n",
            "                                                                 \n",
            " lstm_1 (LSTM)               (None, 7, 50)             20200     \n",
            "                                                                 \n",
            " lstm_2 (LSTM)               (None, 50)                20200     \n",
            "                                                                 \n",
            " dense (Dense)               (None, 1)                 51        \n",
            "                                                                 \n",
            "=================================================================\n",
            "Total params: 50,851\n",
            "Trainable params: 50,851\n",
            "Non-trainable params: 0\n",
            "_________________________________________________________________\n"
          ]
        }
      ]
    },
    {
      "cell_type": "code",
      "source": [
        "model.fit(train_windows,train_labels,validation_data=(test_windows,test_labels),epochs=100,batch_size=64,verbose=1)"
      ],
      "metadata": {
        "colab": {
          "base_uri": "https://localhost:8080/"
        },
        "id": "66rzGFCxOnCL",
        "outputId": "fedcad9e-c6ee-4b80-8e4a-9fc94cf721c4"
      },
      "execution_count": 35,
      "outputs": [
        {
          "output_type": "stream",
          "name": "stdout",
          "text": [
            "Epoch 1/100\n",
            "73/73 [==============================] - 8s 37ms/step - loss: 0.0012 - val_loss: 5.9736e-04\n",
            "Epoch 2/100\n",
            "73/73 [==============================] - 1s 19ms/step - loss: 1.0990e-05 - val_loss: 5.8926e-04\n",
            "Epoch 3/100\n",
            "73/73 [==============================] - 1s 16ms/step - loss: 9.5799e-06 - val_loss: 7.5556e-04\n",
            "Epoch 4/100\n",
            "73/73 [==============================] - 1s 16ms/step - loss: 9.5049e-06 - val_loss: 0.0014\n",
            "Epoch 5/100\n",
            "73/73 [==============================] - 1s 16ms/step - loss: 9.7376e-06 - val_loss: 0.0012\n",
            "Epoch 6/100\n",
            "73/73 [==============================] - 1s 16ms/step - loss: 9.4582e-06 - val_loss: 0.0023\n",
            "Epoch 7/100\n",
            "73/73 [==============================] - 1s 16ms/step - loss: 1.0108e-05 - val_loss: 0.0019\n",
            "Epoch 8/100\n",
            "73/73 [==============================] - 1s 16ms/step - loss: 1.0145e-05 - val_loss: 0.0022\n",
            "Epoch 9/100\n",
            "73/73 [==============================] - 1s 16ms/step - loss: 1.0397e-05 - val_loss: 0.0023\n",
            "Epoch 10/100\n",
            "73/73 [==============================] - 1s 16ms/step - loss: 1.0189e-05 - val_loss: 0.0020\n",
            "Epoch 11/100\n",
            "73/73 [==============================] - 2s 21ms/step - loss: 1.0582e-05 - val_loss: 0.0016\n",
            "Epoch 12/100\n",
            "73/73 [==============================] - 2s 22ms/step - loss: 1.0561e-05 - val_loss: 0.0021\n",
            "Epoch 13/100\n",
            "73/73 [==============================] - 1s 16ms/step - loss: 1.1198e-05 - val_loss: 0.0020\n",
            "Epoch 14/100\n",
            "73/73 [==============================] - 1s 16ms/step - loss: 1.0828e-05 - val_loss: 0.0028\n",
            "Epoch 15/100\n",
            "73/73 [==============================] - 1s 16ms/step - loss: 9.8709e-06 - val_loss: 0.0020\n",
            "Epoch 16/100\n",
            "73/73 [==============================] - 1s 16ms/step - loss: 1.0303e-05 - val_loss: 0.0018\n",
            "Epoch 17/100\n",
            "73/73 [==============================] - 1s 16ms/step - loss: 1.1595e-05 - val_loss: 0.0023\n",
            "Epoch 18/100\n",
            "73/73 [==============================] - 1s 16ms/step - loss: 1.1205e-05 - val_loss: 0.0022\n",
            "Epoch 19/100\n",
            "73/73 [==============================] - 1s 16ms/step - loss: 1.0593e-05 - val_loss: 0.0017\n",
            "Epoch 20/100\n",
            "73/73 [==============================] - 1s 16ms/step - loss: 9.7120e-06 - val_loss: 0.0021\n",
            "Epoch 21/100\n",
            "73/73 [==============================] - 1s 19ms/step - loss: 1.0170e-05 - val_loss: 0.0016\n",
            "Epoch 22/100\n",
            "73/73 [==============================] - 2s 22ms/step - loss: 1.0082e-05 - val_loss: 0.0015\n",
            "Epoch 23/100\n",
            "73/73 [==============================] - 1s 18ms/step - loss: 1.1736e-05 - val_loss: 0.0019\n",
            "Epoch 24/100\n",
            "73/73 [==============================] - 1s 16ms/step - loss: 9.5525e-06 - val_loss: 0.0015\n",
            "Epoch 25/100\n",
            "73/73 [==============================] - 1s 16ms/step - loss: 1.0211e-05 - val_loss: 0.0020\n",
            "Epoch 26/100\n",
            "73/73 [==============================] - 1s 16ms/step - loss: 9.6915e-06 - val_loss: 0.0024\n",
            "Epoch 27/100\n",
            "73/73 [==============================] - 1s 16ms/step - loss: 1.0120e-05 - val_loss: 0.0020\n",
            "Epoch 28/100\n",
            "73/73 [==============================] - 1s 16ms/step - loss: 9.7506e-06 - val_loss: 0.0019\n",
            "Epoch 29/100\n",
            "73/73 [==============================] - 1s 16ms/step - loss: 1.1253e-05 - val_loss: 0.0018\n",
            "Epoch 30/100\n",
            "73/73 [==============================] - 1s 17ms/step - loss: 1.0176e-05 - val_loss: 0.0022\n",
            "Epoch 31/100\n",
            "73/73 [==============================] - 1s 18ms/step - loss: 1.0558e-05 - val_loss: 0.0023\n",
            "Epoch 32/100\n",
            "73/73 [==============================] - 2s 22ms/step - loss: 1.0729e-05 - val_loss: 0.0023\n",
            "Epoch 33/100\n",
            "73/73 [==============================] - 1s 20ms/step - loss: 1.1869e-05 - val_loss: 0.0014\n",
            "Epoch 34/100\n",
            "73/73 [==============================] - 1s 16ms/step - loss: 9.0950e-06 - val_loss: 0.0021\n",
            "Epoch 35/100\n",
            "73/73 [==============================] - 1s 16ms/step - loss: 9.9542e-06 - val_loss: 0.0021\n",
            "Epoch 36/100\n",
            "73/73 [==============================] - 1s 16ms/step - loss: 9.8706e-06 - val_loss: 0.0021\n",
            "Epoch 37/100\n",
            "73/73 [==============================] - 1s 16ms/step - loss: 1.0401e-05 - val_loss: 0.0019\n",
            "Epoch 38/100\n",
            "73/73 [==============================] - 1s 17ms/step - loss: 1.0433e-05 - val_loss: 0.0012\n",
            "Epoch 39/100\n",
            "73/73 [==============================] - 1s 16ms/step - loss: 1.0560e-05 - val_loss: 0.0019\n",
            "Epoch 40/100\n",
            "73/73 [==============================] - 1s 16ms/step - loss: 1.0348e-05 - val_loss: 0.0023\n",
            "Epoch 41/100\n",
            "73/73 [==============================] - 1s 16ms/step - loss: 9.2396e-06 - val_loss: 0.0020\n",
            "Epoch 42/100\n",
            "73/73 [==============================] - 2s 23ms/step - loss: 8.6719e-06 - val_loss: 0.0016\n",
            "Epoch 43/100\n",
            "73/73 [==============================] - 2s 21ms/step - loss: 1.1188e-05 - val_loss: 0.0021\n",
            "Epoch 44/100\n",
            "73/73 [==============================] - 1s 17ms/step - loss: 1.0221e-05 - val_loss: 0.0016\n",
            "Epoch 45/100\n",
            "73/73 [==============================] - 1s 16ms/step - loss: 1.0853e-05 - val_loss: 0.0016\n",
            "Epoch 46/100\n",
            "73/73 [==============================] - 1s 16ms/step - loss: 1.1270e-05 - val_loss: 0.0018\n",
            "Epoch 47/100\n",
            "73/73 [==============================] - 1s 16ms/step - loss: 9.6892e-06 - val_loss: 0.0023\n",
            "Epoch 48/100\n",
            "73/73 [==============================] - 1s 17ms/step - loss: 1.0601e-05 - val_loss: 0.0026\n",
            "Epoch 49/100\n",
            "73/73 [==============================] - 1s 17ms/step - loss: 9.0014e-06 - val_loss: 0.0019\n",
            "Epoch 50/100\n",
            "73/73 [==============================] - 1s 17ms/step - loss: 8.9273e-06 - val_loss: 0.0020\n",
            "Epoch 51/100\n",
            "73/73 [==============================] - 1s 17ms/step - loss: 9.6863e-06 - val_loss: 0.0018\n",
            "Epoch 52/100\n",
            "73/73 [==============================] - 2s 23ms/step - loss: 9.9209e-06 - val_loss: 0.0017\n",
            "Epoch 53/100\n",
            "73/73 [==============================] - 2s 21ms/step - loss: 8.3250e-06 - val_loss: 0.0024\n",
            "Epoch 54/100\n",
            "73/73 [==============================] - 1s 17ms/step - loss: 1.0349e-05 - val_loss: 0.0017\n",
            "Epoch 55/100\n",
            "73/73 [==============================] - 1s 16ms/step - loss: 8.0766e-06 - val_loss: 0.0015\n",
            "Epoch 56/100\n",
            "73/73 [==============================] - 1s 16ms/step - loss: 7.6249e-06 - val_loss: 0.0016\n",
            "Epoch 57/100\n",
            "73/73 [==============================] - 1s 17ms/step - loss: 8.2787e-06 - val_loss: 0.0012\n",
            "Epoch 58/100\n",
            "73/73 [==============================] - 1s 16ms/step - loss: 8.3282e-06 - val_loss: 0.0013\n",
            "Epoch 59/100\n",
            "73/73 [==============================] - 1s 16ms/step - loss: 8.8309e-06 - val_loss: 0.0012\n",
            "Epoch 60/100\n",
            "73/73 [==============================] - 1s 16ms/step - loss: 8.1556e-06 - val_loss: 0.0012\n",
            "Epoch 61/100\n",
            "73/73 [==============================] - 1s 17ms/step - loss: 9.1466e-06 - val_loss: 8.7676e-04\n",
            "Epoch 62/100\n",
            "73/73 [==============================] - 2s 22ms/step - loss: 7.7531e-06 - val_loss: 0.0011\n",
            "Epoch 63/100\n",
            "73/73 [==============================] - 2s 21ms/step - loss: 7.6301e-06 - val_loss: 0.0010\n",
            "Epoch 64/100\n",
            "73/73 [==============================] - 1s 16ms/step - loss: 7.0800e-06 - val_loss: 0.0011\n",
            "Epoch 65/100\n",
            "73/73 [==============================] - 1s 17ms/step - loss: 7.7575e-06 - val_loss: 0.0017\n",
            "Epoch 66/100\n",
            "73/73 [==============================] - 1s 20ms/step - loss: 9.4380e-06 - val_loss: 0.0011\n",
            "Epoch 67/100\n",
            "73/73 [==============================] - 1s 20ms/step - loss: 7.3208e-06 - val_loss: 0.0011\n",
            "Epoch 68/100\n",
            "73/73 [==============================] - 1s 17ms/step - loss: 6.7108e-06 - val_loss: 0.0014\n",
            "Epoch 69/100\n",
            "73/73 [==============================] - 1s 18ms/step - loss: 8.4155e-06 - val_loss: 5.7792e-04\n",
            "Epoch 70/100\n",
            "73/73 [==============================] - 1s 16ms/step - loss: 8.5560e-06 - val_loss: 6.1392e-04\n",
            "Epoch 71/100\n",
            "73/73 [==============================] - 2s 22ms/step - loss: 7.1651e-06 - val_loss: 0.0010\n",
            "Epoch 72/100\n",
            "73/73 [==============================] - 2s 24ms/step - loss: 7.5913e-06 - val_loss: 0.0011\n",
            "Epoch 73/100\n",
            "73/73 [==============================] - 1s 18ms/step - loss: 6.0223e-06 - val_loss: 8.5916e-04\n",
            "Epoch 74/100\n",
            "73/73 [==============================] - 1s 17ms/step - loss: 6.1617e-06 - val_loss: 6.8749e-04\n",
            "Epoch 75/100\n",
            "73/73 [==============================] - 1s 17ms/step - loss: 6.2256e-06 - val_loss: 8.9202e-04\n",
            "Epoch 76/100\n",
            "73/73 [==============================] - 1s 17ms/step - loss: 6.5172e-06 - val_loss: 8.4023e-04\n",
            "Epoch 77/100\n",
            "73/73 [==============================] - 1s 17ms/step - loss: 6.7771e-06 - val_loss: 7.1776e-04\n",
            "Epoch 78/100\n",
            "73/73 [==============================] - 1s 16ms/step - loss: 7.5039e-06 - val_loss: 0.0013\n",
            "Epoch 79/100\n",
            "73/73 [==============================] - 1s 16ms/step - loss: 5.9178e-06 - val_loss: 8.2576e-04\n",
            "Epoch 80/100\n",
            "73/73 [==============================] - 1s 17ms/step - loss: 5.2101e-06 - val_loss: 9.2456e-04\n",
            "Epoch 81/100\n",
            "73/73 [==============================] - 2s 23ms/step - loss: 5.9909e-06 - val_loss: 0.0017\n",
            "Epoch 82/100\n",
            "73/73 [==============================] - 2s 22ms/step - loss: 5.9596e-06 - val_loss: 9.3980e-04\n",
            "Epoch 83/100\n",
            "73/73 [==============================] - 1s 17ms/step - loss: 5.5495e-06 - val_loss: 0.0010\n",
            "Epoch 84/100\n",
            "73/73 [==============================] - 1s 18ms/step - loss: 5.5149e-06 - val_loss: 9.0079e-04\n",
            "Epoch 85/100\n",
            "73/73 [==============================] - 1s 17ms/step - loss: 5.5613e-06 - val_loss: 4.7811e-04\n",
            "Epoch 86/100\n",
            "73/73 [==============================] - 1s 17ms/step - loss: 5.6987e-06 - val_loss: 4.9452e-04\n",
            "Epoch 87/100\n",
            "73/73 [==============================] - 1s 17ms/step - loss: 5.2816e-06 - val_loss: 4.7339e-04\n",
            "Epoch 88/100\n",
            "73/73 [==============================] - 1s 17ms/step - loss: 5.4900e-06 - val_loss: 2.6993e-04\n",
            "Epoch 89/100\n",
            "73/73 [==============================] - 1s 17ms/step - loss: 6.1098e-06 - val_loss: 7.8414e-04\n",
            "Epoch 90/100\n",
            "73/73 [==============================] - 1s 19ms/step - loss: 4.6360e-06 - val_loss: 3.0318e-04\n",
            "Epoch 91/100\n",
            "73/73 [==============================] - 2s 23ms/step - loss: 5.8740e-06 - val_loss: 5.2575e-04\n",
            "Epoch 92/100\n",
            "73/73 [==============================] - 1s 20ms/step - loss: 4.7827e-06 - val_loss: 4.3669e-04\n",
            "Epoch 93/100\n",
            "73/73 [==============================] - 1s 18ms/step - loss: 4.4552e-06 - val_loss: 2.4949e-04\n",
            "Epoch 94/100\n",
            "73/73 [==============================] - 1s 17ms/step - loss: 4.5658e-06 - val_loss: 2.3686e-04\n",
            "Epoch 95/100\n",
            "73/73 [==============================] - 1s 17ms/step - loss: 6.7723e-06 - val_loss: 2.8730e-04\n",
            "Epoch 96/100\n",
            "73/73 [==============================] - 1s 17ms/step - loss: 7.1768e-06 - val_loss: 4.7671e-04\n",
            "Epoch 97/100\n",
            "73/73 [==============================] - 1s 16ms/step - loss: 4.4289e-06 - val_loss: 3.6273e-04\n",
            "Epoch 98/100\n",
            "73/73 [==============================] - 1s 17ms/step - loss: 4.0780e-06 - val_loss: 3.4008e-04\n",
            "Epoch 99/100\n",
            "73/73 [==============================] - 1s 17ms/step - loss: 4.9134e-06 - val_loss: 3.1588e-04\n",
            "Epoch 100/100\n",
            "73/73 [==============================] - 1s 20ms/step - loss: 3.7513e-06 - val_loss: 3.0630e-04\n"
          ]
        },
        {
          "output_type": "execute_result",
          "data": {
            "text/plain": [
              "<keras.callbacks.History at 0x7f136c213220>"
            ]
          },
          "metadata": {},
          "execution_count": 35
        }
      ]
    },
    {
      "cell_type": "code",
      "source": [
        "test_predict=model.predict(test_windows)"
      ],
      "metadata": {
        "colab": {
          "base_uri": "https://localhost:8080/"
        },
        "id": "3C2pBw3_O0-B",
        "outputId": "ba4fa156-b623-4da3-b890-bf022c62501f"
      },
      "execution_count": 36,
      "outputs": [
        {
          "output_type": "stream",
          "name": "stdout",
          "text": [
            "37/37 [==============================] - 2s 8ms/step\n"
          ]
        }
      ]
    },
    {
      "cell_type": "code",
      "source": [
        "test_predict"
      ],
      "metadata": {
        "colab": {
          "base_uri": "https://localhost:8080/"
        },
        "id": "1k53PR7OVmlG",
        "outputId": "f6ee1494-25d8-40d2-a279-6ad4070f97db"
      },
      "execution_count": 37,
      "outputs": [
        {
          "output_type": "execute_result",
          "data": {
            "text/plain": [
              "array([[0.27676538],\n",
              "       [0.28359887],\n",
              "       [0.28725213],\n",
              "       ...,\n",
              "       [0.85254264],\n",
              "       [0.85387033],\n",
              "       [0.85554385]], dtype=float32)"
            ]
          },
          "metadata": {},
          "execution_count": 37
        }
      ]
    },
    {
      "cell_type": "code",
      "source": [
        "plt.figure(figsize=(20, 14))\n",
        "plt.plot(time_test_labels,test_predict,label = \"Predicted Data\")\n",
        "plt.plot(time_test_labels,test_labels,label = \"Actual Data\")\n",
        "plt.xlabel(\"Date\")\n",
        "plt.ylabel(\"Stock price\")\n",
        "plt.legend(fontsize=14)\n",
        "plt.show()"
      ],
      "metadata": {
        "colab": {
          "base_uri": "https://localhost:8080/",
          "height": 823
        },
        "id": "-PeNTCATVpkM",
        "outputId": "79d6d5e5-b09d-45cd-f53a-ef6624a64588"
      },
      "execution_count": 41,
      "outputs": [
        {
          "output_type": "display_data",
          "data": {
            "text/plain": [
              "<Figure size 1440x1008 with 1 Axes>"
            ],
            "image/png": "[encoded data removed]"
          },
          "metadata": {
            "needs_background": "light"
          }
        }
      ]
    },
    {
      "cell_type": "markdown",
      "source": [
        "Similar Steps can be followed as followed in Tata Motors Stock prediction to generate BUY/SELL signals and calculating the indicators"
      ],
      "metadata": {
        "id": "2JAI1rwwapn8"
      }
    },
    {
      "cell_type": "code",
      "source": [],
      "metadata": {
        "id": "HNh5KMJCZxmm"
      },
      "execution_count": null,
      "outputs": []
    }
  ]
}